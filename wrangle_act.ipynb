{
 "cells": [
  {
   "cell_type": "markdown",
   "metadata": {
    "extensions": {
     "jupyter_dashboards": {
      "version": 1,
      "views": {
       "grid_default": {
        "col": 0,
        "height": 4,
        "hidden": false,
        "row": 0,
        "width": 4
       },
       "report_default": {
        "hidden": false
       }
      }
     }
    }
   },
   "source": [
    "# WeRateDogs: Wrangling and Analyze Data\n",
    "## By: Jaclyn Tobin"
   ]
  },
  {
   "cell_type": "markdown",
   "metadata": {},
   "source": [
    "## Data Gathering\n",
    "\n"
   ]
  },
  {
   "cell_type": "code",
   "execution_count": null,
   "metadata": {
    "extensions": {
     "jupyter_dashboards": {
      "version": 1,
      "views": {
       "grid_default": {
        "hidden": true
       },
       "report_default": {
        "hidden": true
       }
      }
     }
    }
   },
   "outputs": [],
   "source": [
    "# download the WeRateDogs Twitter archive data (twitter_archive_enhanced.csv)\n",
    "import pandas as pd\n",
    "\n",
    "archive= pd.read_csv('twitter-archive-enhanced.csv')\n",
    "\n",
    "archive.head()"
   ]
  },
  {
   "cell_type": "markdown",
   "metadata": {},
   "source": [
    "2. Use the Requests library to download the tweet image prediction (image_predictions.tsv)"
   ]
  },
  {
   "cell_type": "code",
   "execution_count": 2,
   "metadata": {},
   "outputs": [
    {
     "data": {
      "text/plain": [
       "200"
      ]
     },
     "execution_count": 2,
     "metadata": {},
     "output_type": "execute_result"
    }
   ],
   "source": [
    "import requests\n",
    "r = requests.get('https://d17h27t6h515a5.cloudfront.net/topher/2017/August/599fd2ad_image-predictions/image-predictions.tsv', auth=('user', 'pass'))\n",
    "r.status_code"
   ]
  },
  {
   "cell_type": "code",
   "execution_count": 3,
   "metadata": {},
   "outputs": [
    {
     "data": {
      "text/html": [
       "<div>\n",
       "<style scoped>\n",
       "    .dataframe tbody tr th:only-of-type {\n",
       "        vertical-align: middle;\n",
       "    }\n",
       "\n",
       "    .dataframe tbody tr th {\n",
       "        vertical-align: top;\n",
       "    }\n",
       "\n",
       "    .dataframe thead th {\n",
       "        text-align: right;\n",
       "    }\n",
       "</style>\n",
       "<table border=\"1\" class=\"dataframe\">\n",
       "  <thead>\n",
       "    <tr style=\"text-align: right;\">\n",
       "      <th></th>\n",
       "      <th>tweet_id</th>\n",
       "      <th>jpg_url</th>\n",
       "      <th>img_num</th>\n",
       "      <th>p1</th>\n",
       "      <th>p1_conf</th>\n",
       "      <th>p1_dog</th>\n",
       "      <th>p2</th>\n",
       "      <th>p2_conf</th>\n",
       "      <th>p2_dog</th>\n",
       "      <th>p3</th>\n",
       "      <th>p3_conf</th>\n",
       "      <th>p3_dog</th>\n",
       "    </tr>\n",
       "  </thead>\n",
       "  <tbody>\n",
       "    <tr>\n",
       "      <th>0</th>\n",
       "      <td>666020888022790149</td>\n",
       "      <td>https://pbs.twimg.com/media/CT4udn0WwAA0aMy.jpg</td>\n",
       "      <td>1</td>\n",
       "      <td>Welsh_springer_spaniel</td>\n",
       "      <td>0.465074</td>\n",
       "      <td>True</td>\n",
       "      <td>collie</td>\n",
       "      <td>0.156665</td>\n",
       "      <td>True</td>\n",
       "      <td>Shetland_sheepdog</td>\n",
       "      <td>0.061428</td>\n",
       "      <td>True</td>\n",
       "    </tr>\n",
       "    <tr>\n",
       "      <th>1</th>\n",
       "      <td>666029285002620928</td>\n",
       "      <td>https://pbs.twimg.com/media/CT42GRgUYAA5iDo.jpg</td>\n",
       "      <td>1</td>\n",
       "      <td>redbone</td>\n",
       "      <td>0.506826</td>\n",
       "      <td>True</td>\n",
       "      <td>miniature_pinscher</td>\n",
       "      <td>0.074192</td>\n",
       "      <td>True</td>\n",
       "      <td>Rhodesian_ridgeback</td>\n",
       "      <td>0.072010</td>\n",
       "      <td>True</td>\n",
       "    </tr>\n",
       "    <tr>\n",
       "      <th>2</th>\n",
       "      <td>666033412701032449</td>\n",
       "      <td>https://pbs.twimg.com/media/CT4521TWwAEvMyu.jpg</td>\n",
       "      <td>1</td>\n",
       "      <td>German_shepherd</td>\n",
       "      <td>0.596461</td>\n",
       "      <td>True</td>\n",
       "      <td>malinois</td>\n",
       "      <td>0.138584</td>\n",
       "      <td>True</td>\n",
       "      <td>bloodhound</td>\n",
       "      <td>0.116197</td>\n",
       "      <td>True</td>\n",
       "    </tr>\n",
       "    <tr>\n",
       "      <th>3</th>\n",
       "      <td>666044226329800704</td>\n",
       "      <td>https://pbs.twimg.com/media/CT5Dr8HUEAA-lEu.jpg</td>\n",
       "      <td>1</td>\n",
       "      <td>Rhodesian_ridgeback</td>\n",
       "      <td>0.408143</td>\n",
       "      <td>True</td>\n",
       "      <td>redbone</td>\n",
       "      <td>0.360687</td>\n",
       "      <td>True</td>\n",
       "      <td>miniature_pinscher</td>\n",
       "      <td>0.222752</td>\n",
       "      <td>True</td>\n",
       "    </tr>\n",
       "    <tr>\n",
       "      <th>4</th>\n",
       "      <td>666049248165822465</td>\n",
       "      <td>https://pbs.twimg.com/media/CT5IQmsXIAAKY4A.jpg</td>\n",
       "      <td>1</td>\n",
       "      <td>miniature_pinscher</td>\n",
       "      <td>0.560311</td>\n",
       "      <td>True</td>\n",
       "      <td>Rottweiler</td>\n",
       "      <td>0.243682</td>\n",
       "      <td>True</td>\n",
       "      <td>Doberman</td>\n",
       "      <td>0.154629</td>\n",
       "      <td>True</td>\n",
       "    </tr>\n",
       "  </tbody>\n",
       "</table>\n",
       "</div>"
      ],
      "text/plain": [
       "             tweet_id                                          jpg_url  \\\n",
       "0  666020888022790149  https://pbs.twimg.com/media/CT4udn0WwAA0aMy.jpg   \n",
       "1  666029285002620928  https://pbs.twimg.com/media/CT42GRgUYAA5iDo.jpg   \n",
       "2  666033412701032449  https://pbs.twimg.com/media/CT4521TWwAEvMyu.jpg   \n",
       "3  666044226329800704  https://pbs.twimg.com/media/CT5Dr8HUEAA-lEu.jpg   \n",
       "4  666049248165822465  https://pbs.twimg.com/media/CT5IQmsXIAAKY4A.jpg   \n",
       "\n",
       "   img_num                      p1   p1_conf  p1_dog                  p2  \\\n",
       "0        1  Welsh_springer_spaniel  0.465074    True              collie   \n",
       "1        1                 redbone  0.506826    True  miniature_pinscher   \n",
       "2        1         German_shepherd  0.596461    True            malinois   \n",
       "3        1     Rhodesian_ridgeback  0.408143    True             redbone   \n",
       "4        1      miniature_pinscher  0.560311    True          Rottweiler   \n",
       "\n",
       "    p2_conf  p2_dog                   p3   p3_conf  p3_dog  \n",
       "0  0.156665    True    Shetland_sheepdog  0.061428    True  \n",
       "1  0.074192    True  Rhodesian_ridgeback  0.072010    True  \n",
       "2  0.138584    True           bloodhound  0.116197    True  \n",
       "3  0.360687    True   miniature_pinscher  0.222752    True  \n",
       "4  0.243682    True             Doberman  0.154629    True  "
      ]
     },
     "execution_count": 3,
     "metadata": {},
     "output_type": "execute_result"
    }
   ],
   "source": [
    "breeds = pd.read_csv(\"image-predictions.tsv\", sep='\\t')\n",
    "breeds.head()"
   ]
  },
  {
   "cell_type": "markdown",
   "metadata": {},
   "source": [
    "3. Use the Tweepy library to query additional data via the Twitter API (tweet_json.txt)"
   ]
  },
  {
   "cell_type": "code",
   "execution_count": null,
   "metadata": {},
   "outputs": [],
   "source": [
    "import tweepy\n",
    "from tweepy import OAuthHandler\n",
    "import json\n",
    "from timeit import default_timer as timer\n",
    "\n",
    "consumer_key = 'HIDDEN'\n",
    "consumer_secret = 'HIDDEN'\n",
    "access_token = 'HIDDEN'\n",
    "access_secret = 'HIDDEN'\n",
    "\n",
    "auth = tweepy.OAuthHandler(consumer_key, consumer_secret)\n",
    "auth.set_access_token(access_token, access_secret)\n",
    "\n",
    "api = tweepy.API(auth, wait_on_rate_limit=True)\n",
    "tweet_ids = archive.tweet_id.values\n",
    "len(tweet_ids)\n",
    "\n",
    "# Query Twitter's API for JSON data for each tweet ID in the Twitter archive\n",
    "count = 0\n",
    "fails_dict = {}\n",
    "start = timer()\n",
    "# Save each tweet's returned JSON as a new line in a .txt file\n",
    "with open('tweet_json.txt', 'w') as outfile:\n",
    "    # This loop will likely take 20-30 minutes to run because of Twitter's rate limit\n",
    "    for tweet_id in tweet_ids:\n",
    "        count += 1\n",
    "        print(str(count) + \": \" + str(tweet_id))\n",
    "        try:\n",
    "            tweet = api.get_status(tweet_id, tweet_mode='extended')\n",
    "            print(\"Success\")\n",
    "            json.dump(tweet._json, outfile)\n",
    "            outfile.write('\\n')\n",
    "        except tweepy.TweepError as e:\n",
    "            print(\"Fail\")\n",
    "            fails_dict[tweet_id] = e\n",
    "            pass\n",
    "end = timer()\n",
    "print(end - start)\n",
    "print(fails_dict)\n"
   ]
  },
  {
   "cell_type": "code",
   "execution_count": null,
   "metadata": {},
   "outputs": [],
   "source": [
    "import json\n",
    "selected_attr = []\n",
    "with open('tweet_json.txt', 'r') as json_file:\n",
    "    for line in json_file:\n",
    "        json_data = json.loads(line)\n",
    "        selected_attr.append({'tweet_id': json_data['id'],\n",
    "                             'favorites': json_data['favorite_count'],\n",
    "                             'retweets': json_data['retweet_count'],\n",
    "                             'timestamp': json_data['created_at']})\n",
    "tweet_selected_attr = pd.DataFrame(selected_attr, columns=['tweet_id','favorites','retweets','timestamp'])\n",
    "\n",
    "tweet_selected_attr"
   ]
  },
  {
   "cell_type": "code",
   "execution_count": 93,
   "metadata": {},
   "outputs": [
    {
     "data": {
      "text/html": [
       "<div>\n",
       "<style scoped>\n",
       "    .dataframe tbody tr th:only-of-type {\n",
       "        vertical-align: middle;\n",
       "    }\n",
       "\n",
       "    .dataframe tbody tr th {\n",
       "        vertical-align: top;\n",
       "    }\n",
       "\n",
       "    .dataframe thead th {\n",
       "        text-align: right;\n",
       "    }\n",
       "</style>\n",
       "<table border=\"1\" class=\"dataframe\">\n",
       "  <thead>\n",
       "    <tr style=\"text-align: right;\">\n",
       "      <th></th>\n",
       "      <th>tweet_id</th>\n",
       "      <th>in_reply_to_status_id</th>\n",
       "      <th>in_reply_to_user_id</th>\n",
       "      <th>timestamp</th>\n",
       "      <th>source</th>\n",
       "      <th>text</th>\n",
       "      <th>retweeted_status_id</th>\n",
       "      <th>retweeted_status_user_id</th>\n",
       "      <th>retweeted_status_timestamp</th>\n",
       "      <th>expanded_urls</th>\n",
       "      <th>rating_numerator</th>\n",
       "      <th>rating_denominator</th>\n",
       "      <th>name</th>\n",
       "      <th>doggo</th>\n",
       "      <th>floofer</th>\n",
       "      <th>pupper</th>\n",
       "      <th>puppo</th>\n",
       "    </tr>\n",
       "  </thead>\n",
       "  <tbody>\n",
       "    <tr>\n",
       "      <th>0</th>\n",
       "      <td>892420643555336193</td>\n",
       "      <td>NaN</td>\n",
       "      <td>NaN</td>\n",
       "      <td>2017-08-01 16:23:56 +0000</td>\n",
       "      <td>&lt;a href=\"http://twitter.com/download/iphone\" r...</td>\n",
       "      <td>This is Phineas. He's a mystical boy. Only eve...</td>\n",
       "      <td>NaN</td>\n",
       "      <td>NaN</td>\n",
       "      <td>NaN</td>\n",
       "      <td>https://twitter.com/dog_rates/status/892420643...</td>\n",
       "      <td>13</td>\n",
       "      <td>10</td>\n",
       "      <td>Phineas</td>\n",
       "      <td>None</td>\n",
       "      <td>None</td>\n",
       "      <td>None</td>\n",
       "      <td>None</td>\n",
       "    </tr>\n",
       "    <tr>\n",
       "      <th>1</th>\n",
       "      <td>892177421306343426</td>\n",
       "      <td>NaN</td>\n",
       "      <td>NaN</td>\n",
       "      <td>2017-08-01 00:17:27 +0000</td>\n",
       "      <td>&lt;a href=\"http://twitter.com/download/iphone\" r...</td>\n",
       "      <td>This is Tilly. She's just checking pup on you....</td>\n",
       "      <td>NaN</td>\n",
       "      <td>NaN</td>\n",
       "      <td>NaN</td>\n",
       "      <td>https://twitter.com/dog_rates/status/892177421...</td>\n",
       "      <td>13</td>\n",
       "      <td>10</td>\n",
       "      <td>Tilly</td>\n",
       "      <td>None</td>\n",
       "      <td>None</td>\n",
       "      <td>None</td>\n",
       "      <td>None</td>\n",
       "    </tr>\n",
       "    <tr>\n",
       "      <th>2</th>\n",
       "      <td>891815181378084864</td>\n",
       "      <td>NaN</td>\n",
       "      <td>NaN</td>\n",
       "      <td>2017-07-31 00:18:03 +0000</td>\n",
       "      <td>&lt;a href=\"http://twitter.com/download/iphone\" r...</td>\n",
       "      <td>This is Archie. He is a rare Norwegian Pouncin...</td>\n",
       "      <td>NaN</td>\n",
       "      <td>NaN</td>\n",
       "      <td>NaN</td>\n",
       "      <td>https://twitter.com/dog_rates/status/891815181...</td>\n",
       "      <td>12</td>\n",
       "      <td>10</td>\n",
       "      <td>Archie</td>\n",
       "      <td>None</td>\n",
       "      <td>None</td>\n",
       "      <td>None</td>\n",
       "      <td>None</td>\n",
       "    </tr>\n",
       "    <tr>\n",
       "      <th>3</th>\n",
       "      <td>891689557279858688</td>\n",
       "      <td>NaN</td>\n",
       "      <td>NaN</td>\n",
       "      <td>2017-07-30 15:58:51 +0000</td>\n",
       "      <td>&lt;a href=\"http://twitter.com/download/iphone\" r...</td>\n",
       "      <td>This is Darla. She commenced a snooze mid meal...</td>\n",
       "      <td>NaN</td>\n",
       "      <td>NaN</td>\n",
       "      <td>NaN</td>\n",
       "      <td>https://twitter.com/dog_rates/status/891689557...</td>\n",
       "      <td>13</td>\n",
       "      <td>10</td>\n",
       "      <td>Darla</td>\n",
       "      <td>None</td>\n",
       "      <td>None</td>\n",
       "      <td>None</td>\n",
       "      <td>None</td>\n",
       "    </tr>\n",
       "    <tr>\n",
       "      <th>4</th>\n",
       "      <td>891327558926688256</td>\n",
       "      <td>NaN</td>\n",
       "      <td>NaN</td>\n",
       "      <td>2017-07-29 16:00:24 +0000</td>\n",
       "      <td>&lt;a href=\"http://twitter.com/download/iphone\" r...</td>\n",
       "      <td>This is Franklin. He would like you to stop ca...</td>\n",
       "      <td>NaN</td>\n",
       "      <td>NaN</td>\n",
       "      <td>NaN</td>\n",
       "      <td>https://twitter.com/dog_rates/status/891327558...</td>\n",
       "      <td>12</td>\n",
       "      <td>10</td>\n",
       "      <td>Franklin</td>\n",
       "      <td>None</td>\n",
       "      <td>None</td>\n",
       "      <td>None</td>\n",
       "      <td>None</td>\n",
       "    </tr>\n",
       "  </tbody>\n",
       "</table>\n",
       "</div>"
      ],
      "text/plain": [
       "             tweet_id  in_reply_to_status_id  in_reply_to_user_id  \\\n",
       "0  892420643555336193                    NaN                  NaN   \n",
       "1  892177421306343426                    NaN                  NaN   \n",
       "2  891815181378084864                    NaN                  NaN   \n",
       "3  891689557279858688                    NaN                  NaN   \n",
       "4  891327558926688256                    NaN                  NaN   \n",
       "\n",
       "                   timestamp  \\\n",
       "0  2017-08-01 16:23:56 +0000   \n",
       "1  2017-08-01 00:17:27 +0000   \n",
       "2  2017-07-31 00:18:03 +0000   \n",
       "3  2017-07-30 15:58:51 +0000   \n",
       "4  2017-07-29 16:00:24 +0000   \n",
       "\n",
       "                                              source  \\\n",
       "0  <a href=\"http://twitter.com/download/iphone\" r...   \n",
       "1  <a href=\"http://twitter.com/download/iphone\" r...   \n",
       "2  <a href=\"http://twitter.com/download/iphone\" r...   \n",
       "3  <a href=\"http://twitter.com/download/iphone\" r...   \n",
       "4  <a href=\"http://twitter.com/download/iphone\" r...   \n",
       "\n",
       "                                                text  retweeted_status_id  \\\n",
       "0  This is Phineas. He's a mystical boy. Only eve...                  NaN   \n",
       "1  This is Tilly. She's just checking pup on you....                  NaN   \n",
       "2  This is Archie. He is a rare Norwegian Pouncin...                  NaN   \n",
       "3  This is Darla. She commenced a snooze mid meal...                  NaN   \n",
       "4  This is Franklin. He would like you to stop ca...                  NaN   \n",
       "\n",
       "   retweeted_status_user_id retweeted_status_timestamp  \\\n",
       "0                       NaN                        NaN   \n",
       "1                       NaN                        NaN   \n",
       "2                       NaN                        NaN   \n",
       "3                       NaN                        NaN   \n",
       "4                       NaN                        NaN   \n",
       "\n",
       "                                       expanded_urls  rating_numerator  \\\n",
       "0  https://twitter.com/dog_rates/status/892420643...                13   \n",
       "1  https://twitter.com/dog_rates/status/892177421...                13   \n",
       "2  https://twitter.com/dog_rates/status/891815181...                12   \n",
       "3  https://twitter.com/dog_rates/status/891689557...                13   \n",
       "4  https://twitter.com/dog_rates/status/891327558...                12   \n",
       "\n",
       "   rating_denominator      name doggo floofer pupper puppo  \n",
       "0                  10   Phineas  None    None   None  None  \n",
       "1                  10     Tilly  None    None   None  None  \n",
       "2                  10    Archie  None    None   None  None  \n",
       "3                  10     Darla  None    None   None  None  \n",
       "4                  10  Franklin  None    None   None  None  "
      ]
     },
     "execution_count": 93,
     "metadata": {},
     "output_type": "execute_result"
    }
   ],
   "source": [
    "archive.head()"
   ]
  },
  {
   "cell_type": "code",
   "execution_count": 5,
   "metadata": {},
   "outputs": [
    {
     "name": "stdout",
     "output_type": "stream",
     "text": [
      "<class 'pandas.core.frame.DataFrame'>\n",
      "RangeIndex: 2356 entries, 0 to 2355\n",
      "Data columns (total 17 columns):\n",
      "tweet_id                      2356 non-null int64\n",
      "in_reply_to_status_id         78 non-null float64\n",
      "in_reply_to_user_id           78 non-null float64\n",
      "timestamp                     2356 non-null object\n",
      "source                        2356 non-null object\n",
      "text                          2356 non-null object\n",
      "retweeted_status_id           181 non-null float64\n",
      "retweeted_status_user_id      181 non-null float64\n",
      "retweeted_status_timestamp    181 non-null object\n",
      "expanded_urls                 2297 non-null object\n",
      "rating_numerator              2356 non-null int64\n",
      "rating_denominator            2356 non-null int64\n",
      "name                          2356 non-null object\n",
      "doggo                         2356 non-null object\n",
      "floofer                       2356 non-null object\n",
      "pupper                        2356 non-null object\n",
      "puppo                         2356 non-null object\n",
      "dtypes: float64(4), int64(3), object(10)\n",
      "memory usage: 313.0+ KB\n"
     ]
    }
   ],
   "source": [
    "archive.info()"
   ]
  },
  {
   "cell_type": "code",
   "execution_count": 6,
   "metadata": {},
   "outputs": [
    {
     "name": "stdout",
     "output_type": "stream",
     "text": [
      "<class 'pandas.core.frame.DataFrame'>\n",
      "RangeIndex: 2327 entries, 0 to 2326\n",
      "Data columns (total 4 columns):\n",
      "tweet_id     2327 non-null int64\n",
      "favorites    2327 non-null int64\n",
      "retweets     2327 non-null int64\n",
      "timestamp    2327 non-null object\n",
      "dtypes: int64(3), object(1)\n",
      "memory usage: 72.8+ KB\n"
     ]
    }
   ],
   "source": [
    "tweet_selected_attr.info()"
   ]
  },
  {
   "cell_type": "markdown",
   "metadata": {
    "extensions": {
     "jupyter_dashboards": {
      "version": 1,
      "views": {
       "grid_default": {
        "col": 4,
        "height": 4,
        "hidden": false,
        "row": 28,
        "width": 4
       },
       "report_default": {
        "hidden": false
       }
      }
     }
    }
   },
   "source": [
    "## Assessing Data"
   ]
  },
  {
   "cell_type": "markdown",
   "metadata": {
    "extensions": {
     "jupyter_dashboards": {
      "version": 1,
      "views": {
       "grid_default": {
        "col": 0,
        "height": 7,
        "hidden": false,
        "row": 40,
        "width": 12
       },
       "report_default": {
        "hidden": false
       }
      }
     }
    }
   },
   "source": [
    "### Tidiness issues\n",
    "1. Three different datasets exist about one observational unit, tweets. Therefore, these three datasets should be merged as they are part of the same observational unit. I will used pandas join to combine these datasets with tweet_id as the key.\n",
    "\n",
    "\n",
    "\n",
    "2. There is no column for the day of the week the tweet was created. Create a new column 'day' with the day of the week the tweet was created. Extract this from 'timestamp' column. This will provide to be much more useful in our analysis than just the 'timestamp' column. "
   ]
  },
  {
   "cell_type": "markdown",
   "metadata": {},
   "source": [
    "### Quality issues\n",
    "1. There are dupicate tweets and null values. Drop all duplicate tweets by eliminating rows with non-null values in retweeted_status_id and in_reply_to_status_id. Values in these columns indicate the tweet is a retweet or a reply. By removing these from the dataset, we can be sure we are looking at only original tweets. \n",
    "\n",
    "\n",
    "2. There are entries other than dog breeds in 'p1' (dog breed predictions).  Remove tweets that do not have a dog image. There are many everyday objects like 'tennis_ball' and 'door_mat' in the column of dog breed predictions. Create a list of all the non-dog strings and remove those entries from the 'p1' column. \n",
    "\n",
    "\n",
    "3. 'in_reply_to_user_id' and 'in_reply_to_tweet_id' are not original tweets. So should be removed as quality issue itself. However, for retweets and replies a single tag of quality issue should be made: Dropping non-original tweets.¶\n",
    "\n",
    "\n",
    "\n",
    "4. 'timestamp' column is not in correct datatype.  Change datatype for timestamp from 'object' to 'datetime' using pandas to_datetime. This will allow us to treat the timestamp as an actual time and date. From there this data can be useful in our analysis.\n",
    "\n",
    "\n",
    "\n",
    "5. 'favorites' and 'retweets' are in an incorrect datatype. Change favorites and retweets from 'float' to 'integer'. It does not make sense to have these as a float because we cannot have a fraction or partial favorite or retweet. Integers will give a more accurate representations of these columns. \n",
    "\n",
    "\n",
    "\n",
    "6. Rename 'p1' column.  'p1' represents the predicted dog breed. It will make more sense to change the column name to 'dog_breed'. During our analysis the dog_breed column name will be quick to recognize and not cause confusion.\n",
    "\n",
    "\n",
    "\n",
    "7. rating_numerator and rating_denominator are the incorrect datatype. Change rating_numerator and rating_denominator from 'integer' to 'float'. It is possible for a dog to be rated with a fraction or non-integer. To best represent their ratings we will want to convert these columns to floats. \n",
    "\n",
    "\n",
    "\n",
    "8. tweet_id is in an incorrect datatype. Change tweet_id from 'integer' to 'string'. The tweet_id is a unique identifier and not used as a number. It make no sense to have this column as an interger. We can best make use of tweet_id as a string (object)."
   ]
  },
  {
   "cell_type": "markdown",
   "metadata": {
    "extensions": {
     "jupyter_dashboards": {
      "version": 1,
      "views": {
       "grid_default": {
        "col": 4,
        "height": 4,
        "hidden": false,
        "row": 32,
        "width": 4
       },
       "report_default": {
        "hidden": false
       }
      }
     }
    }
   },
   "source": [
    "## Cleaning Data\n"
   ]
  },
  {
   "cell_type": "markdown",
   "metadata": {},
   "source": [
    "### Tidy Issue #1: Three different datasets exsist about one observational unit, tweets"
   ]
  },
  {
   "cell_type": "markdown",
   "metadata": {},
   "source": [
    "#### Define: Information about one type of observational unit (tweets) is spread across three different datasets. Therefore, these three datasets should be merged as they are part of the same observational unit. I will used pandas join to combine these datasets with tweet_id as the key."
   ]
  },
  {
   "cell_type": "markdown",
   "metadata": {},
   "source": [
    "#### Code"
   ]
  },
  {
   "cell_type": "code",
   "execution_count": 7,
   "metadata": {},
   "outputs": [
    {
     "data": {
      "text/html": [
       "<div>\n",
       "<style scoped>\n",
       "    .dataframe tbody tr th:only-of-type {\n",
       "        vertical-align: middle;\n",
       "    }\n",
       "\n",
       "    .dataframe tbody tr th {\n",
       "        vertical-align: top;\n",
       "    }\n",
       "\n",
       "    .dataframe thead th {\n",
       "        text-align: right;\n",
       "    }\n",
       "</style>\n",
       "<table border=\"1\" class=\"dataframe\">\n",
       "  <thead>\n",
       "    <tr style=\"text-align: right;\">\n",
       "      <th></th>\n",
       "      <th>tweet_id</th>\n",
       "      <th>text</th>\n",
       "      <th>rating_numerator</th>\n",
       "      <th>rating_denominator</th>\n",
       "      <th>retweeted_status_id</th>\n",
       "      <th>in_reply_to_status_id</th>\n",
       "    </tr>\n",
       "  </thead>\n",
       "  <tbody>\n",
       "    <tr>\n",
       "      <th>0</th>\n",
       "      <td>892420643555336193</td>\n",
       "      <td>This is Phineas. He's a mystical boy. Only eve...</td>\n",
       "      <td>13</td>\n",
       "      <td>10</td>\n",
       "      <td>NaN</td>\n",
       "      <td>NaN</td>\n",
       "    </tr>\n",
       "    <tr>\n",
       "      <th>1</th>\n",
       "      <td>892177421306343426</td>\n",
       "      <td>This is Tilly. She's just checking pup on you....</td>\n",
       "      <td>13</td>\n",
       "      <td>10</td>\n",
       "      <td>NaN</td>\n",
       "      <td>NaN</td>\n",
       "    </tr>\n",
       "    <tr>\n",
       "      <th>2</th>\n",
       "      <td>891815181378084864</td>\n",
       "      <td>This is Archie. He is a rare Norwegian Pouncin...</td>\n",
       "      <td>12</td>\n",
       "      <td>10</td>\n",
       "      <td>NaN</td>\n",
       "      <td>NaN</td>\n",
       "    </tr>\n",
       "    <tr>\n",
       "      <th>3</th>\n",
       "      <td>891689557279858688</td>\n",
       "      <td>This is Darla. She commenced a snooze mid meal...</td>\n",
       "      <td>13</td>\n",
       "      <td>10</td>\n",
       "      <td>NaN</td>\n",
       "      <td>NaN</td>\n",
       "    </tr>\n",
       "    <tr>\n",
       "      <th>4</th>\n",
       "      <td>891327558926688256</td>\n",
       "      <td>This is Franklin. He would like you to stop ca...</td>\n",
       "      <td>12</td>\n",
       "      <td>10</td>\n",
       "      <td>NaN</td>\n",
       "      <td>NaN</td>\n",
       "    </tr>\n",
       "  </tbody>\n",
       "</table>\n",
       "</div>"
      ],
      "text/plain": [
       "             tweet_id                                               text  \\\n",
       "0  892420643555336193  This is Phineas. He's a mystical boy. Only eve...   \n",
       "1  892177421306343426  This is Tilly. She's just checking pup on you....   \n",
       "2  891815181378084864  This is Archie. He is a rare Norwegian Pouncin...   \n",
       "3  891689557279858688  This is Darla. She commenced a snooze mid meal...   \n",
       "4  891327558926688256  This is Franklin. He would like you to stop ca...   \n",
       "\n",
       "   rating_numerator  rating_denominator  retweeted_status_id  \\\n",
       "0                13                  10                  NaN   \n",
       "1                13                  10                  NaN   \n",
       "2                12                  10                  NaN   \n",
       "3                13                  10                  NaN   \n",
       "4                12                  10                  NaN   \n",
       "\n",
       "   in_reply_to_status_id  \n",
       "0                    NaN  \n",
       "1                    NaN  \n",
       "2                    NaN  \n",
       "3                    NaN  \n",
       "4                    NaN  "
      ]
     },
     "execution_count": 7,
     "metadata": {},
     "output_type": "execute_result"
    }
   ],
   "source": [
    "# Make copies of original pieces of data\n",
    "# Combine dataframes using tweet_id as the key to join columns of interest: \n",
    "# archive= text','rating_numerator', 'rating_denominator', 'name'\n",
    "# tweet_selected_attributes= 'favorites', 'retweets', 'timestamp'\n",
    "# breeds = p1 (breed predicition)\n",
    "\n",
    "df=archive[['tweet_id','text','rating_numerator', 'rating_denominator', 'retweeted_status_id', 'in_reply_to_status_id']].copy()\n",
    "df.head()"
   ]
  },
  {
   "cell_type": "code",
   "execution_count": 8,
   "metadata": {},
   "outputs": [
    {
     "data": {
      "text/html": [
       "<div>\n",
       "<style scoped>\n",
       "    .dataframe tbody tr th:only-of-type {\n",
       "        vertical-align: middle;\n",
       "    }\n",
       "\n",
       "    .dataframe tbody tr th {\n",
       "        vertical-align: top;\n",
       "    }\n",
       "\n",
       "    .dataframe thead th {\n",
       "        text-align: right;\n",
       "    }\n",
       "</style>\n",
       "<table border=\"1\" class=\"dataframe\">\n",
       "  <thead>\n",
       "    <tr style=\"text-align: right;\">\n",
       "      <th></th>\n",
       "      <th>tweet_id</th>\n",
       "      <th>text</th>\n",
       "      <th>rating_numerator</th>\n",
       "      <th>rating_denominator</th>\n",
       "      <th>retweeted_status_id</th>\n",
       "      <th>in_reply_to_status_id</th>\n",
       "      <th>favorites</th>\n",
       "      <th>retweets</th>\n",
       "      <th>timestamp</th>\n",
       "    </tr>\n",
       "  </thead>\n",
       "  <tbody>\n",
       "    <tr>\n",
       "      <th>0</th>\n",
       "      <td>892420643555336193</td>\n",
       "      <td>This is Phineas. He's a mystical boy. Only eve...</td>\n",
       "      <td>13</td>\n",
       "      <td>10</td>\n",
       "      <td>NaN</td>\n",
       "      <td>NaN</td>\n",
       "      <td>33891.0</td>\n",
       "      <td>7043.0</td>\n",
       "      <td>Tue Aug 01 16:23:56 +0000 2017</td>\n",
       "    </tr>\n",
       "    <tr>\n",
       "      <th>1</th>\n",
       "      <td>892177421306343426</td>\n",
       "      <td>This is Tilly. She's just checking pup on you....</td>\n",
       "      <td>13</td>\n",
       "      <td>10</td>\n",
       "      <td>NaN</td>\n",
       "      <td>NaN</td>\n",
       "      <td>29389.0</td>\n",
       "      <td>5317.0</td>\n",
       "      <td>Tue Aug 01 00:17:27 +0000 2017</td>\n",
       "    </tr>\n",
       "    <tr>\n",
       "      <th>2</th>\n",
       "      <td>891815181378084864</td>\n",
       "      <td>This is Archie. He is a rare Norwegian Pouncin...</td>\n",
       "      <td>12</td>\n",
       "      <td>10</td>\n",
       "      <td>NaN</td>\n",
       "      <td>NaN</td>\n",
       "      <td>22102.0</td>\n",
       "      <td>3498.0</td>\n",
       "      <td>Mon Jul 31 00:18:03 +0000 2017</td>\n",
       "    </tr>\n",
       "    <tr>\n",
       "      <th>3</th>\n",
       "      <td>891689557279858688</td>\n",
       "      <td>This is Darla. She commenced a snooze mid meal...</td>\n",
       "      <td>13</td>\n",
       "      <td>10</td>\n",
       "      <td>NaN</td>\n",
       "      <td>NaN</td>\n",
       "      <td>37002.0</td>\n",
       "      <td>7253.0</td>\n",
       "      <td>Sun Jul 30 15:58:51 +0000 2017</td>\n",
       "    </tr>\n",
       "    <tr>\n",
       "      <th>4</th>\n",
       "      <td>891327558926688256</td>\n",
       "      <td>This is Franklin. He would like you to stop ca...</td>\n",
       "      <td>12</td>\n",
       "      <td>10</td>\n",
       "      <td>NaN</td>\n",
       "      <td>NaN</td>\n",
       "      <td>35382.0</td>\n",
       "      <td>7794.0</td>\n",
       "      <td>Sat Jul 29 16:00:24 +0000 2017</td>\n",
       "    </tr>\n",
       "  </tbody>\n",
       "</table>\n",
       "</div>"
      ],
      "text/plain": [
       "             tweet_id                                               text  \\\n",
       "0  892420643555336193  This is Phineas. He's a mystical boy. Only eve...   \n",
       "1  892177421306343426  This is Tilly. She's just checking pup on you....   \n",
       "2  891815181378084864  This is Archie. He is a rare Norwegian Pouncin...   \n",
       "3  891689557279858688  This is Darla. She commenced a snooze mid meal...   \n",
       "4  891327558926688256  This is Franklin. He would like you to stop ca...   \n",
       "\n",
       "   rating_numerator  rating_denominator  retweeted_status_id  \\\n",
       "0                13                  10                  NaN   \n",
       "1                13                  10                  NaN   \n",
       "2                12                  10                  NaN   \n",
       "3                13                  10                  NaN   \n",
       "4                12                  10                  NaN   \n",
       "\n",
       "   in_reply_to_status_id  favorites  retweets                       timestamp  \n",
       "0                    NaN    33891.0    7043.0  Tue Aug 01 16:23:56 +0000 2017  \n",
       "1                    NaN    29389.0    5317.0  Tue Aug 01 00:17:27 +0000 2017  \n",
       "2                    NaN    22102.0    3498.0  Mon Jul 31 00:18:03 +0000 2017  \n",
       "3                    NaN    37002.0    7253.0  Sun Jul 30 15:58:51 +0000 2017  \n",
       "4                    NaN    35382.0    7794.0  Sat Jul 29 16:00:24 +0000 2017  "
      ]
     },
     "execution_count": 8,
     "metadata": {},
     "output_type": "execute_result"
    }
   ],
   "source": [
    "df=df.join(tweet_selected_attr.set_index('tweet_id'), on='tweet_id')\n",
    "df.head()"
   ]
  },
  {
   "cell_type": "code",
   "execution_count": 9,
   "metadata": {},
   "outputs": [
    {
     "data": {
      "text/html": [
       "<div>\n",
       "<style scoped>\n",
       "    .dataframe tbody tr th:only-of-type {\n",
       "        vertical-align: middle;\n",
       "    }\n",
       "\n",
       "    .dataframe tbody tr th {\n",
       "        vertical-align: top;\n",
       "    }\n",
       "\n",
       "    .dataframe thead th {\n",
       "        text-align: right;\n",
       "    }\n",
       "</style>\n",
       "<table border=\"1\" class=\"dataframe\">\n",
       "  <thead>\n",
       "    <tr style=\"text-align: right;\">\n",
       "      <th></th>\n",
       "      <th>tweet_id</th>\n",
       "      <th>text</th>\n",
       "      <th>rating_numerator</th>\n",
       "      <th>rating_denominator</th>\n",
       "      <th>retweeted_status_id</th>\n",
       "      <th>in_reply_to_status_id</th>\n",
       "      <th>favorites</th>\n",
       "      <th>retweets</th>\n",
       "      <th>timestamp</th>\n",
       "      <th>p1</th>\n",
       "    </tr>\n",
       "  </thead>\n",
       "  <tbody>\n",
       "    <tr>\n",
       "      <th>0</th>\n",
       "      <td>892420643555336193</td>\n",
       "      <td>This is Phineas. He's a mystical boy. Only eve...</td>\n",
       "      <td>13</td>\n",
       "      <td>10</td>\n",
       "      <td>NaN</td>\n",
       "      <td>NaN</td>\n",
       "      <td>33891.0</td>\n",
       "      <td>7043.0</td>\n",
       "      <td>Tue Aug 01 16:23:56 +0000 2017</td>\n",
       "      <td>orange</td>\n",
       "    </tr>\n",
       "    <tr>\n",
       "      <th>1</th>\n",
       "      <td>892177421306343426</td>\n",
       "      <td>This is Tilly. She's just checking pup on you....</td>\n",
       "      <td>13</td>\n",
       "      <td>10</td>\n",
       "      <td>NaN</td>\n",
       "      <td>NaN</td>\n",
       "      <td>29389.0</td>\n",
       "      <td>5317.0</td>\n",
       "      <td>Tue Aug 01 00:17:27 +0000 2017</td>\n",
       "      <td>Chihuahua</td>\n",
       "    </tr>\n",
       "    <tr>\n",
       "      <th>2</th>\n",
       "      <td>891815181378084864</td>\n",
       "      <td>This is Archie. He is a rare Norwegian Pouncin...</td>\n",
       "      <td>12</td>\n",
       "      <td>10</td>\n",
       "      <td>NaN</td>\n",
       "      <td>NaN</td>\n",
       "      <td>22102.0</td>\n",
       "      <td>3498.0</td>\n",
       "      <td>Mon Jul 31 00:18:03 +0000 2017</td>\n",
       "      <td>Chihuahua</td>\n",
       "    </tr>\n",
       "    <tr>\n",
       "      <th>3</th>\n",
       "      <td>891689557279858688</td>\n",
       "      <td>This is Darla. She commenced a snooze mid meal...</td>\n",
       "      <td>13</td>\n",
       "      <td>10</td>\n",
       "      <td>NaN</td>\n",
       "      <td>NaN</td>\n",
       "      <td>37002.0</td>\n",
       "      <td>7253.0</td>\n",
       "      <td>Sun Jul 30 15:58:51 +0000 2017</td>\n",
       "      <td>paper_towel</td>\n",
       "    </tr>\n",
       "    <tr>\n",
       "      <th>4</th>\n",
       "      <td>891327558926688256</td>\n",
       "      <td>This is Franklin. He would like you to stop ca...</td>\n",
       "      <td>12</td>\n",
       "      <td>10</td>\n",
       "      <td>NaN</td>\n",
       "      <td>NaN</td>\n",
       "      <td>35382.0</td>\n",
       "      <td>7794.0</td>\n",
       "      <td>Sat Jul 29 16:00:24 +0000 2017</td>\n",
       "      <td>basset</td>\n",
       "    </tr>\n",
       "  </tbody>\n",
       "</table>\n",
       "</div>"
      ],
      "text/plain": [
       "             tweet_id                                               text  \\\n",
       "0  892420643555336193  This is Phineas. He's a mystical boy. Only eve...   \n",
       "1  892177421306343426  This is Tilly. She's just checking pup on you....   \n",
       "2  891815181378084864  This is Archie. He is a rare Norwegian Pouncin...   \n",
       "3  891689557279858688  This is Darla. She commenced a snooze mid meal...   \n",
       "4  891327558926688256  This is Franklin. He would like you to stop ca...   \n",
       "\n",
       "   rating_numerator  rating_denominator  retweeted_status_id  \\\n",
       "0                13                  10                  NaN   \n",
       "1                13                  10                  NaN   \n",
       "2                12                  10                  NaN   \n",
       "3                13                  10                  NaN   \n",
       "4                12                  10                  NaN   \n",
       "\n",
       "   in_reply_to_status_id  favorites  retweets                       timestamp  \\\n",
       "0                    NaN    33891.0    7043.0  Tue Aug 01 16:23:56 +0000 2017   \n",
       "1                    NaN    29389.0    5317.0  Tue Aug 01 00:17:27 +0000 2017   \n",
       "2                    NaN    22102.0    3498.0  Mon Jul 31 00:18:03 +0000 2017   \n",
       "3                    NaN    37002.0    7253.0  Sun Jul 30 15:58:51 +0000 2017   \n",
       "4                    NaN    35382.0    7794.0  Sat Jul 29 16:00:24 +0000 2017   \n",
       "\n",
       "            p1  \n",
       "0       orange  \n",
       "1    Chihuahua  \n",
       "2    Chihuahua  \n",
       "3  paper_towel  \n",
       "4       basset  "
      ]
     },
     "execution_count": 9,
     "metadata": {},
     "output_type": "execute_result"
    }
   ],
   "source": [
    "df2=breeds[['tweet_id','p1']].copy()\n",
    "df=df.join(df2.set_index('tweet_id'), on='tweet_id')\n",
    "df.head()"
   ]
  },
  {
   "cell_type": "markdown",
   "metadata": {},
   "source": [
    "#### Test"
   ]
  },
  {
   "cell_type": "code",
   "execution_count": 10,
   "metadata": {},
   "outputs": [
    {
     "name": "stdout",
     "output_type": "stream",
     "text": [
      "<class 'pandas.core.frame.DataFrame'>\n",
      "RangeIndex: 2356 entries, 0 to 2355\n",
      "Data columns (total 10 columns):\n",
      "tweet_id                 2356 non-null int64\n",
      "text                     2356 non-null object\n",
      "rating_numerator         2356 non-null int64\n",
      "rating_denominator       2356 non-null int64\n",
      "retweeted_status_id      181 non-null float64\n",
      "in_reply_to_status_id    78 non-null float64\n",
      "favorites                2327 non-null float64\n",
      "retweets                 2327 non-null float64\n",
      "timestamp                2327 non-null object\n",
      "p1                       2075 non-null object\n",
      "dtypes: float64(4), int64(3), object(3)\n",
      "memory usage: 184.1+ KB\n"
     ]
    }
   ],
   "source": [
    "df.info()"
   ]
  },
  {
   "cell_type": "markdown",
   "metadata": {},
   "source": [
    "### Tidy Issue #2: There is no column for the day of the week the tweet was created"
   ]
  },
  {
   "cell_type": "markdown",
   "metadata": {
    "collapsed": true,
    "extensions": {
     "jupyter_dashboards": {
      "version": 1,
      "views": {
       "grid_default": {
        "hidden": true
       },
       "report_default": {
        "hidden": true
       }
      }
     }
    }
   },
   "source": [
    "#### Define:  Create a new column 'day' with the day of the week the tweet was created. Extract this from 'timestamp' column. This will provide to be much more useful in our analysis than just the 'timestamp' column. "
   ]
  },
  {
   "cell_type": "markdown",
   "metadata": {},
   "source": [
    "#### Code ** This code will follow the cleaning of the datatype issues so the day can be properly extracted **"
   ]
  },
  {
   "cell_type": "markdown",
   "metadata": {},
   "source": [
    "### Tidy Issue #2: There is no column for the day of the week the tweet was created"
   ]
  },
  {
   "cell_type": "markdown",
   "metadata": {
    "collapsed": true,
    "extensions": {
     "jupyter_dashboards": {
      "version": 1,
      "views": {
       "grid_default": {
        "hidden": true
       },
       "report_default": {
        "hidden": true
       }
      }
     }
    }
   },
   "source": [
    "#### Define:  Create a new column 'day' with the day of the week the tweet was created. Extract this from 'timestamp' column. This will provide to be much more useful in our analysis than just the 'timestamp' column. "
   ]
  },
  {
   "cell_type": "markdown",
   "metadata": {},
   "source": [
    "#### Code"
   ]
  },
  {
   "cell_type": "code",
   "execution_count": 128,
   "metadata": {},
   "outputs": [],
   "source": [
    "#separate column for day of week\n",
    "df['day']=df['timestamp'].dt.day_name()"
   ]
  },
  {
   "cell_type": "markdown",
   "metadata": {},
   "source": [
    "#### Test"
   ]
  },
  {
   "cell_type": "code",
   "execution_count": 129,
   "metadata": {
    "scrolled": true
   },
   "outputs": [
    {
     "data": {
      "text/html": [
       "<div>\n",
       "<style scoped>\n",
       "    .dataframe tbody tr th:only-of-type {\n",
       "        vertical-align: middle;\n",
       "    }\n",
       "\n",
       "    .dataframe tbody tr th {\n",
       "        vertical-align: top;\n",
       "    }\n",
       "\n",
       "    .dataframe thead th {\n",
       "        text-align: right;\n",
       "    }\n",
       "</style>\n",
       "<table border=\"1\" class=\"dataframe\">\n",
       "  <thead>\n",
       "    <tr style=\"text-align: right;\">\n",
       "      <th></th>\n",
       "      <th>tweet_id</th>\n",
       "      <th>rating_numerator</th>\n",
       "      <th>rating_denominator</th>\n",
       "      <th>favorites</th>\n",
       "      <th>retweets</th>\n",
       "      <th>timestamp</th>\n",
       "      <th>dog_breed</th>\n",
       "      <th>day</th>\n",
       "    </tr>\n",
       "  </thead>\n",
       "  <tbody>\n",
       "    <tr>\n",
       "      <th>2</th>\n",
       "      <td>891815181378084864</td>\n",
       "      <td>12.0</td>\n",
       "      <td>10.0</td>\n",
       "      <td>22102</td>\n",
       "      <td>3498</td>\n",
       "      <td>2017-07-31 00:18:03</td>\n",
       "      <td>Chihuahua</td>\n",
       "      <td>Monday</td>\n",
       "    </tr>\n",
       "    <tr>\n",
       "      <th>4</th>\n",
       "      <td>891327558926688256</td>\n",
       "      <td>12.0</td>\n",
       "      <td>10.0</td>\n",
       "      <td>35382</td>\n",
       "      <td>7794</td>\n",
       "      <td>2017-07-29 16:00:24</td>\n",
       "      <td>basset</td>\n",
       "      <td>Saturday</td>\n",
       "    </tr>\n",
       "    <tr>\n",
       "      <th>5</th>\n",
       "      <td>891087950875897856</td>\n",
       "      <td>13.0</td>\n",
       "      <td>10.0</td>\n",
       "      <td>17849</td>\n",
       "      <td>2612</td>\n",
       "      <td>2017-07-29 00:08:17</td>\n",
       "      <td>Chesapeake_Bay_retriever</td>\n",
       "      <td>Saturday</td>\n",
       "    </tr>\n",
       "    <tr>\n",
       "      <th>7</th>\n",
       "      <td>890729181411237888</td>\n",
       "      <td>13.0</td>\n",
       "      <td>10.0</td>\n",
       "      <td>56955</td>\n",
       "      <td>15817</td>\n",
       "      <td>2017-07-28 00:22:40</td>\n",
       "      <td>Pomeranian</td>\n",
       "      <td>Friday</td>\n",
       "    </tr>\n",
       "    <tr>\n",
       "      <th>8</th>\n",
       "      <td>890609185150312448</td>\n",
       "      <td>13.0</td>\n",
       "      <td>10.0</td>\n",
       "      <td>24567</td>\n",
       "      <td>3638</td>\n",
       "      <td>2017-07-27 16:25:51</td>\n",
       "      <td>Irish_terrier</td>\n",
       "      <td>Thursday</td>\n",
       "    </tr>\n",
       "  </tbody>\n",
       "</table>\n",
       "</div>"
      ],
      "text/plain": [
       "             tweet_id  rating_numerator  rating_denominator  favorites  \\\n",
       "2  891815181378084864              12.0                10.0      22102   \n",
       "4  891327558926688256              12.0                10.0      35382   \n",
       "5  891087950875897856              13.0                10.0      17849   \n",
       "7  890729181411237888              13.0                10.0      56955   \n",
       "8  890609185150312448              13.0                10.0      24567   \n",
       "\n",
       "   retweets           timestamp                 dog_breed       day  \n",
       "2      3498 2017-07-31 00:18:03                 Chihuahua    Monday  \n",
       "4      7794 2017-07-29 16:00:24                    basset  Saturday  \n",
       "5      2612 2017-07-29 00:08:17  Chesapeake_Bay_retriever  Saturday  \n",
       "7     15817 2017-07-28 00:22:40                Pomeranian    Friday  \n",
       "8      3638 2017-07-27 16:25:51             Irish_terrier  Thursday  "
      ]
     },
     "execution_count": 129,
     "metadata": {},
     "output_type": "execute_result"
    }
   ],
   "source": [
    "df.head()"
   ]
  },
  {
   "cell_type": "markdown",
   "metadata": {},
   "source": [
    "### Issue #1: There are dupicate tweets and null values"
   ]
  },
  {
   "cell_type": "markdown",
   "metadata": {},
   "source": [
    "#### Define: Drop all duplicate tweets by eliminating rows with non-null values in retweeted_status_id and in_reply_to_status_id. Values in these columns indicate the tweet is a retweet or a reply. By removing these fromt the dataset, we can be sure we are looking at only original tweets. "
   ]
  },
  {
   "cell_type": "markdown",
   "metadata": {},
   "source": [
    "#### Code"
   ]
  },
  {
   "cell_type": "code",
   "execution_count": 11,
   "metadata": {},
   "outputs": [
    {
     "data": {
      "text/plain": [
       "181"
      ]
     },
     "execution_count": 11,
     "metadata": {},
     "output_type": "execute_result"
    }
   ],
   "source": [
    "#Number of retweeted rows\n",
    "df.retweeted_status_id.count()"
   ]
  },
  {
   "cell_type": "code",
   "execution_count": 12,
   "metadata": {},
   "outputs": [
    {
     "data": {
      "text/plain": [
       "78"
      ]
     },
     "execution_count": 12,
     "metadata": {},
     "output_type": "execute_result"
    }
   ],
   "source": [
    "#Number of reply tweets\n",
    "df.in_reply_to_status_id.count()"
   ]
  },
  {
   "cell_type": "code",
   "execution_count": 13,
   "metadata": {},
   "outputs": [],
   "source": [
    "df=df[df['retweeted_status_id'].isna()]\n",
    "df=df[df['in_reply_to_status_id'].isna()]"
   ]
  },
  {
   "cell_type": "markdown",
   "metadata": {},
   "source": [
    "#### Test"
   ]
  },
  {
   "cell_type": "code",
   "execution_count": 14,
   "metadata": {},
   "outputs": [
    {
     "name": "stdout",
     "output_type": "stream",
     "text": [
      "Number of retweeted rows = 0\n",
      "Number of reply tweets= 0\n"
     ]
    }
   ],
   "source": [
    "print(\"Number of retweeted rows =\" , df.retweeted_status_id.count())\n",
    "print(\"Number of reply tweets=\", df.in_reply_to_status_id.count())"
   ]
  },
  {
   "cell_type": "markdown",
   "metadata": {},
   "source": [
    "### Issue #2: There are entries other than dog breeds in 'p1' (dog breed predictions)"
   ]
  },
  {
   "cell_type": "markdown",
   "metadata": {
    "collapsed": true,
    "extensions": {
     "jupyter_dashboards": {
      "version": 1,
      "views": {
       "grid_default": {
        "hidden": true
       },
       "report_default": {
        "hidden": true
       }
      }
     }
    }
   },
   "source": [
    "#### Define: Remove tweets that do not have a dog image. There are many everyday objects like 'tennis_ball' and 'door_mat' in the column of dog breed predictions. Create a list of all the non-dog strings and remove those entries from the 'p1' column. "
   ]
  },
  {
   "cell_type": "markdown",
   "metadata": {},
   "source": [
    "#### Code"
   ]
  },
  {
   "cell_type": "code",
   "execution_count": null,
   "metadata": {},
   "outputs": [],
   "source": [
    "#Explore the values in p1 (dog image prediciton)\n",
    "pd.set_option(\"display.max_rows\", None)\n",
    "df.p1.value_counts()"
   ]
  },
  {
   "cell_type": "code",
   "execution_count": null,
   "metadata": {},
   "outputs": [],
   "source": [
    "list=df['p1'].value_counts().index.tolist()\n",
    "list"
   ]
  },
  {
   "cell_type": "code",
   "execution_count": 17,
   "metadata": {},
   "outputs": [],
   "source": [
    "#Create a list of all not dog image predictions\n",
    "not_dogs = ['dingo',\n",
    " 'tennis_ball',\n",
    " 'doormat',\n",
    " 'hamster',\n",
    " 'bath_towel',\n",
    " 'swing',\n",
    " 'Siamese_cat',\n",
    " 'tub',\n",
    " 'llama',\n",
    " 'redbone',\n",
    " 'ice_bear',\n",
    " 'car_mirror',\n",
    " 'home_theater',\n",
    " 'porcupine',\n",
    " 'shopping_cart',\n",
    " 'hippopotamus',\n",
    " 'ox',\n",
    " 'minivan',\n",
    " 'brown_bear',\n",
    " 'guinea_pig',\n",
    " 'wombat',\n",
    " 'hog',\n",
    " 'bathtub',\n",
    " 'jigsaw_puzzle',\n",
    " 'barrow',\n",
    " 'patio',\n",
    " 'bow_tie',\n",
    " 'goose',\n",
    " 'Arctic_fox',\n",
    " 'triceratops',\n",
    " 'muzzle',\n",
    " 'mousetrap',\n",
    " 'ski_mask',\n",
    " 'seashore',\n",
    " 'washbasin',\n",
    " 'stone_wall',\n",
    " 'Arabian_camel',\n",
    " 'cairn',\n",
    " 'comic_book',\n",
    " 'briard',\n",
    " 'dishwasher',\n",
    " 'komondor',\n",
    " 'balloon',\n",
    " 'space_heater',\n",
    " 'cowboy_hat',\n",
    " \"jack-o'-lantern\",\n",
    " 'vacuum',\n",
    " 'prison',\n",
    " 'sea_lion',\n",
    " 'common_iguana',\n",
    " 'wood_rabbit',\n",
    " 'toilet_tissue',\n",
    " 'Christmas_stocking',\n",
    " 'window_shade',\n",
    " 'motor_scooter',\n",
    " 'white_wolf',\n",
    " 'Brabacon_griffon',\n",
    " 'ram',\n",
    " 'refrigerator',\n",
    " 'Angora',\n",
    " 'gas_pump',\n",
    " 'dough',\n",
    " 'frilled_lizard',\n",
    " 'bubble',\n",
    " 'bustard',\n",
    " 'box_turtle',\n",
    " 'meerkat',\n",
    " 'acorn_squash',\n",
    " 'hermit_crab',\n",
    " 'cash_machine',\n",
    " 'jellyfish',\n",
    " 'birdhouse',\n",
    " 'feather_boa',\n",
    " 'badger',\n",
    " 'dogsled',\n",
    " 'gondola',\n",
    " 'paddle',\n",
    " 'paper_towel',\n",
    " 'toyshop',\n",
    " 'Appenzeller',\n",
    " 'leatherback_turtle',\n",
    " 'hyena',\n",
    " 'Loafer',\n",
    " 'wool',\n",
    " 'upright',\n",
    " 'geyser',\n",
    " 'shower_curtain',\n",
    " 'snorkel',\n",
    " 'tabby',\n",
    " 'koala',\n",
    " 'wallaby',\n",
    " 'axolotl',\n",
    " 'chimpanzee',\n",
    " 'toy_terrier',\n",
    " 'weasel',\n",
    " 'laptop',\n",
    " 'ostrich',\n",
    " 'sorrel',\n",
    " 'hen',\n",
    " 'lakeside',\n",
    " 'snail',\n",
    " 'street_sign',\n",
    " 'tusker',\n",
    " 'cheetah',\n",
    " 'pot',\n",
    " 'hummingbird',\n",
    " 'coral_reef',\n",
    " 'park_bench',\n",
    " 'cup',\n",
    " 'timber_wolf',\n",
    " 'ocarina',\n",
    " 'radio_telescope',\n",
    " 'polecat',\n",
    " 'crash_helmet',\n",
    " 'bonnet',\n",
    " 'coffee_mug',\n",
    " 'Egyptian_cat',\n",
    " 'espresso',\n",
    " 'peacock',\n",
    " 'ping-pong_ball',\n",
    " 'pillow',\n",
    " 'rotisserie',\n",
    " 'bannister',\n",
    " 'skunk',\n",
    " 'nail',\n",
    " 'beaver',\n",
    " 'lorikeet',\n",
    " 'tricycle',\n",
    " 'damselfly',\n",
    " 'prayer_rug',\n",
    " 'carousel',\n",
    " 'African_crocodile',\n",
    " 'candle',\n",
    " 'tailed_frog',\n",
    " 'black-footed_ferret',\n",
    " 'fountain',\n",
    " 'ibex',\n",
    " 'banana',\n",
    " 'snowmobile',\n",
    " 'book_jacket',\n",
    " 'cliff',\n",
    " 'killer_whale',\n",
    " 'orange',\n",
    " 'washer',\n",
    " 'handkerchief',\n",
    " 'loupe',\n",
    " 'robin',\n",
    " 'wild_boar',\n",
    " 'terrapin',\n",
    " 'earthstar',\n",
    " 'cheeseburger',\n",
    " 'carton',\n",
    " 'swab',\n",
    " 'ice_lolly',\n",
    " 'walking_stick',\n",
    " 'wooden_spoon',\n",
    " 'scorpion',\n",
    " 'silky_terrier',\n",
    " 'bison',\n",
    " 'traffic_light',\n",
    " 'leopard',\n",
    " 'alp',\n",
    " 'toilet_seat',\n",
    " 'tiger_shark',\n",
    " 'piggy_bank',\n",
    " 'leaf_beetle',\n",
    " 'bighorn',\n",
    " 'sundial',\n",
    " 'mud_turtle',\n",
    " 'beach_wagon',\n",
    " 'lacewing',\n",
    " 'bookshop',\n",
    " 'harp',\n",
    " 'hand_blower',\n",
    " 'jersey',\n",
    " 'long-horned_beetle',\n",
    " 'studio_couch',\n",
    " 'hammer',\n",
    " 'bearskin',\n",
    " 'binoculars',\n",
    " 'bee_eater',\n",
    " 'padlock',\n",
    " 'soccer_ball',\n",
    " 'hotdog',\n",
    " 'pole',\n",
    " 'hay',\n",
    " 'lion',\n",
    " 'bow',\n",
    " 'three-toed_sloth',\n",
    " 'grey_fox',\n",
    " 'maillot',\n",
    " 'Scotch_terrier',\n",
    " 'desktop_computer',\n",
    " 'hare',\n",
    " 'clumber',\n",
    " 'mortarboard',\n",
    " 'guenon',\n",
    " 'groenendael',\n",
    " 'bookcase',\n",
    " 'rain_barrel',\n",
    " 'shopping_basket',\n",
    " 'grille',\n",
    " 'restaurant',\n",
    " 'platypus',\n",
    " 'boathouse',\n",
    " 'cougar',\n",
    " 'coil',\n",
    " 'bakery',\n",
    " 'pedestal',\n",
    " 'zebra',\n",
    " 'clog',\n",
    " 'Madagascar_cat',\n",
    " 'shield',\n",
    " 'coho',\n",
    " 'otter',\n",
    " 'dhole',\n",
    " 'school_bus',\n",
    " 'sunglasses',\n",
    " 'African_grey',\n",
    " 'four-poster',\n",
    " 'barbell',\n",
    " 'lynx',\n",
    " 'quilt',\n",
    " 'syringe',\n",
    " 'EntleBucher',\n",
    " 'king_penguin',\n",
    " 'starfish',\n",
    " 'maze',\n",
    " 'convertible',\n",
    " 'pencil_box',\n",
    " 'teapot',\n",
    " 'suit',\n",
    " 'dining_table',\n",
    " 'electric_fan',\n",
    " 'lawn_mower',\n",
    " 'remote_control',\n",
    " 'revolver',\n",
    " 'trombone',\n",
    " 'American_black_bear',\n",
    " 'marmot',\n",
    " 'crane',\n",
    " 'fiddler_crab',\n",
    " 'bib',\n",
    " 'microwave',\n",
    " 'sulphur-crested_cockatoo',\n",
    " 'sliding_door',\n",
    " 'cowboy_boot',\n",
    " 'canoe',\n",
    " 'water_bottle',\n",
    " 'cuirass',\n",
    " 'rapeseed',\n",
    " 'military_uniform',\n",
    " 'panpipe',\n",
    " 'limousine',\n",
    " 'giant_panda',\n",
    " 'sandbar',\n",
    " 'conch',\n",
    " 'microphone',\n",
    " 'flamingo',\n",
    " 'mailbox',\n",
    " 'china_cabinet',\n",
    " 'minibus',\n",
    " 'pool_table',\n",
    " 'bald_eagle',\n",
    " 'slug',\n",
    " 'sea_urchin',\n",
    " 'picket_fence',\n",
    " 'agama',\n",
    " 'stove',\n",
    " 'envelope',\n",
    " 'pitcher',\n",
    " 'water_buffalo',\n",
    " 'fire_engine',\n",
    " 'basketball', 'tick', 'seat_belt','web_site']\n"
   ]
  },
  {
   "cell_type": "code",
   "execution_count": 18,
   "metadata": {},
   "outputs": [],
   "source": [
    "#Remove all rows with image predictions that are not dogs\n",
    "df = df[~df.p1.str.contains('|'.join(not_dogs),na= False)]"
   ]
  },
  {
   "cell_type": "markdown",
   "metadata": {},
   "source": [
    "#### Test"
   ]
  },
  {
   "cell_type": "code",
   "execution_count": 19,
   "metadata": {},
   "outputs": [
    {
     "data": {
      "text/plain": [
       "golden_retriever                  137\n",
       "Labrador_retriever                 94\n",
       "Pembroke                           88\n",
       "Chihuahua                          78\n",
       "pug                                54\n",
       "chow                               41\n",
       "Samoyed                            40\n",
       "Pomeranian                         38\n",
       "toy_poodle                         37\n",
       "malamute                           29\n",
       "cocker_spaniel                     27\n",
       "French_bulldog                     26\n",
       "Chesapeake_Bay_retriever           23\n",
       "miniature_pinscher                 21\n",
       "German_shepherd                    20\n",
       "Siberian_husky                     20\n",
       "Staffordshire_bullterrier          19\n",
       "Eskimo_dog                         18\n",
       "Shetland_sheepdog                  18\n",
       "Maltese_dog                        18\n",
       "beagle                             17\n",
       "Shih-Tzu                           17\n",
       "Cardigan                           17\n",
       "teddy                              17\n",
       "Italian_greyhound                  16\n",
       "Rottweiler                         16\n",
       "Lakeland_terrier                   15\n",
       "kuvasz                             15\n",
       "Great_Pyrenees                     14\n",
       "West_Highland_white_terrier        14\n",
       "Pekinese                           13\n",
       "American_Staffordshire_terrier     13\n",
       "basset                             13\n",
       "vizsla                             13\n",
       "Border_collie                      12\n",
       "Airedale                           12\n",
       "dalmatian                          12\n",
       "kelpie                             11\n",
       "Old_English_sheepdog               11\n",
       "Bernese_mountain_dog               10\n",
       "collie                             10\n",
       "soft-coated_wheaten_terrier        10\n",
       "Blenheim_spaniel                   10\n",
       "schipperke                          9\n",
       "English_springer                    9\n",
       "malinois                            9\n",
       "whippet                             9\n",
       "Great_Dane                          9\n",
       "Boston_bull                         9\n",
       "miniature_poodle                    8\n",
       "Doberman                            8\n",
       "Yorkshire_terrier                   8\n",
       "flat-coated_retriever               8\n",
       "borzoi                              8\n",
       "papillon                            7\n",
       "German_short-haired_pointer         7\n",
       "Brittany_spaniel                    7\n",
       "Norwegian_elkhound                  7\n",
       "basenji                             7\n",
       "standard_poodle                     7\n",
       "Border_terrier                      7\n",
       "English_setter                      7\n",
       "bloodhound                          7\n",
       "Norfolk_terrier                     6\n",
       "Dandie_Dinmont                      6\n",
       "Saint_Bernard                       6\n",
       "Lhasa                               5\n",
       "Bedlington_terrier                  5\n",
       "Walker_hound                        5\n",
       "Newfoundland                        5\n",
       "Irish_terrier                       5\n",
       "bull_mastiff                        5\n",
       "Mexican_hairless                    4\n",
       "Rhodesian_ridgeback                 4\n",
       "Irish_setter                        4\n",
       "Norwich_terrier                     4\n",
       "Saluki                              4\n",
       "Gordon_setter                       4\n",
       "miniature_schnauzer                 4\n",
       "Tibetan_mastiff                     4\n",
       "keeshond                            4\n",
       "Tibetan_terrier                     4\n",
       "Weimaraner                          4\n",
       "curly-coated_retriever              3\n",
       "Welsh_springer_spaniel              3\n",
       "Afghan_hound                        3\n",
       "Brabancon_griffon                   3\n",
       "Greater_Swiss_Mountain_dog          3\n",
       "Scottish_deerhound                  3\n",
       "Ibizan_hound                        3\n",
       "Irish_water_spaniel                 3\n",
       "Leonberg                            3\n",
       "Australian_terrier                  2\n",
       "black-and-tan_coonhound             2\n",
       "giant_schnauzer                     2\n",
       "Sussex_spaniel                      2\n",
       "standard_schnauzer                  1\n",
       "Japanese_spaniel                    1\n",
       "African_hunting_dog                 1\n",
       "Name: p1, dtype: int64"
      ]
     },
     "execution_count": 19,
     "metadata": {},
     "output_type": "execute_result"
    }
   ],
   "source": [
    "#Check to be all image predictions are of dogs\n",
    "df.p1.value_counts()"
   ]
  },
  {
   "cell_type": "markdown",
   "metadata": {},
   "source": [
    "### Issue #3: Drop all null values in this dataframe"
   ]
  },
  {
   "cell_type": "markdown",
   "metadata": {},
   "source": [
    "#### Define: Remove rows with null values so we can have a complete dataframe. By elimnating rows with incomplete data we can more accurately assess the data. This will also allow us to correct datatypyes without null or na being a problem. "
   ]
  },
  {
   "cell_type": "markdown",
   "metadata": {},
   "source": [
    "#### Code"
   ]
  },
  {
   "cell_type": "code",
   "execution_count": 29,
   "metadata": {},
   "outputs": [
    {
     "name": "stdout",
     "output_type": "stream",
     "text": [
      "<class 'pandas.core.frame.DataFrame'>\n",
      "Int64Index: 1433 entries, 1 to 2355\n",
      "Data columns (total 7 columns):\n",
      "tweet_id              1433 non-null int64\n",
      "rating_numerator      1433 non-null int64\n",
      "rating_denominator    1433 non-null int64\n",
      "favorites             1433 non-null int64\n",
      "retweets              1433 non-null int64\n",
      "timestamp             1433 non-null datetime64[ns]\n",
      "p1                    1433 non-null object\n",
      "dtypes: datetime64[ns](1), int64(5), object(1)\n",
      "memory usage: 89.6+ KB\n"
     ]
    }
   ],
   "source": [
    "df.info()"
   ]
  },
  {
   "cell_type": "code",
   "execution_count": 30,
   "metadata": {},
   "outputs": [],
   "source": [
    "df=df[['tweet_id', 'rating_numerator', 'rating_denominator', 'favorites', 'retweets', 'timestamp', 'p1']]\n",
    "df.dropna(inplace= True)"
   ]
  },
  {
   "cell_type": "markdown",
   "metadata": {},
   "source": [
    "#### Test"
   ]
  },
  {
   "cell_type": "code",
   "execution_count": 31,
   "metadata": {},
   "outputs": [
    {
     "name": "stdout",
     "output_type": "stream",
     "text": [
      "<class 'pandas.core.frame.DataFrame'>\n",
      "Int64Index: 1433 entries, 1 to 2355\n",
      "Data columns (total 7 columns):\n",
      "tweet_id              1433 non-null int64\n",
      "rating_numerator      1433 non-null int64\n",
      "rating_denominator    1433 non-null int64\n",
      "favorites             1433 non-null int64\n",
      "retweets              1433 non-null int64\n",
      "timestamp             1433 non-null datetime64[ns]\n",
      "p1                    1433 non-null object\n",
      "dtypes: datetime64[ns](1), int64(5), object(1)\n",
      "memory usage: 89.6+ KB\n"
     ]
    }
   ],
   "source": [
    "df.info()"
   ]
  },
  {
   "cell_type": "markdown",
   "metadata": {},
   "source": [
    "### Issue #4: 'timestamp' column is not in correct datatype"
   ]
  },
  {
   "cell_type": "markdown",
   "metadata": {
    "collapsed": true,
    "extensions": {
     "jupyter_dashboards": {
      "version": 1,
      "views": {
       "grid_default": {
        "hidden": true
       },
       "report_default": {
        "hidden": true
       }
      }
     }
    }
   },
   "source": [
    "#### Define:   Change datatype for timestamp from 'object' to 'datetime' using pandas to_datetime. This will allow us to treat the timestamp as an actual time and date. From there this data can be useful in our analysis."
   ]
  },
  {
   "cell_type": "markdown",
   "metadata": {},
   "source": [
    "#### Code"
   ]
  },
  {
   "cell_type": "code",
   "execution_count": 32,
   "metadata": {},
   "outputs": [],
   "source": [
    "#Change timestamp to date time\n",
    "df['timestamp'] = pd.to_datetime(df['timestamp'])"
   ]
  },
  {
   "cell_type": "markdown",
   "metadata": {},
   "source": [
    "#### Test"
   ]
  },
  {
   "cell_type": "code",
   "execution_count": 24,
   "metadata": {},
   "outputs": [
    {
     "data": {
      "text/plain": [
       "tweet_id                       int64\n",
       "rating_numerator               int64\n",
       "rating_denominator             int64\n",
       "favorites                    float64\n",
       "retweets                     float64\n",
       "timestamp             datetime64[ns]\n",
       "p1                            object\n",
       "dtype: object"
      ]
     },
     "execution_count": 24,
     "metadata": {},
     "output_type": "execute_result"
    }
   ],
   "source": [
    "df.dtypes"
   ]
  },
  {
   "cell_type": "markdown",
   "metadata": {},
   "source": [
    "### Issue #5: 'favorites' and 'retweets' are in an incorrect datatype"
   ]
  },
  {
   "cell_type": "markdown",
   "metadata": {
    "collapsed": true,
    "extensions": {
     "jupyter_dashboards": {
      "version": 1,
      "views": {
       "grid_default": {
        "hidden": true
       },
       "report_default": {
        "hidden": true
       }
      }
     }
    }
   },
   "source": [
    "#### Define:  Change favorites and retweets from 'float' to 'integer'. It does not make sense to have these as a float because we cannot have a fraction or partial favorite or retweet. Integers will give a more accurate representations of these columns. "
   ]
  },
  {
   "cell_type": "markdown",
   "metadata": {},
   "source": [
    "#### Code"
   ]
  },
  {
   "cell_type": "code",
   "execution_count": 25,
   "metadata": {},
   "outputs": [],
   "source": [
    "df['favorites'] = df['favorites'].astype(int)\n",
    "df['retweets'] = df['retweets'].astype(int)"
   ]
  },
  {
   "cell_type": "markdown",
   "metadata": {},
   "source": [
    "#### Test"
   ]
  },
  {
   "cell_type": "code",
   "execution_count": 26,
   "metadata": {},
   "outputs": [
    {
     "data": {
      "text/plain": [
       "count      1433.000000\n",
       "mean       8079.458479\n",
       "std       11770.493505\n",
       "min          66.000000\n",
       "25%        1832.000000\n",
       "50%        3806.000000\n",
       "75%       10063.000000\n",
       "max      145210.000000\n",
       "Name: favorites, dtype: float64"
      ]
     },
     "execution_count": 26,
     "metadata": {},
     "output_type": "execute_result"
    }
   ],
   "source": [
    "df.favorites.describe()"
   ]
  },
  {
   "cell_type": "code",
   "execution_count": 27,
   "metadata": {},
   "outputs": [
    {
     "data": {
      "text/plain": [
       "count     1433.000000\n",
       "mean      2278.655269\n",
       "std       4144.396478\n",
       "min         11.000000\n",
       "25%        524.000000\n",
       "50%       1154.000000\n",
       "75%       2639.000000\n",
       "max      71024.000000\n",
       "Name: retweets, dtype: float64"
      ]
     },
     "execution_count": 27,
     "metadata": {},
     "output_type": "execute_result"
    }
   ],
   "source": [
    "df.retweets.describe()"
   ]
  },
  {
   "cell_type": "markdown",
   "metadata": {},
   "source": [
    "### Issue #6: Change 'p1' column name"
   ]
  },
  {
   "cell_type": "markdown",
   "metadata": {
    "collapsed": true,
    "extensions": {
     "jupyter_dashboards": {
      "version": 1,
      "views": {
       "grid_default": {
        "hidden": true
       },
       "report_default": {
        "hidden": true
       }
      }
     }
    }
   },
   "source": [
    "#### Define:  'p1' represents the predicted dog breed. It will make more sense to change the column name to 'dog_breed'. During our analysis the dog_breed column name will be quick to recognize and not cause confusion. "
   ]
  },
  {
   "cell_type": "markdown",
   "metadata": {},
   "source": [
    "#### Code"
   ]
  },
  {
   "cell_type": "code",
   "execution_count": 126,
   "metadata": {},
   "outputs": [],
   "source": [
    "df.rename(columns={'p1':'dog_breed'}, inplace=True)"
   ]
  },
  {
   "cell_type": "markdown",
   "metadata": {},
   "source": [
    "#### Test"
   ]
  },
  {
   "cell_type": "code",
   "execution_count": 127,
   "metadata": {},
   "outputs": [
    {
     "data": {
      "text/plain": [
       "Index(['tweet_id', 'rating_numerator', 'rating_denominator', 'favorites',\n",
       "       'retweets', 'timestamp', 'dog_breed'],\n",
       "      dtype='object')"
      ]
     },
     "execution_count": 127,
     "metadata": {},
     "output_type": "execute_result"
    }
   ],
   "source": [
    "df.columns"
   ]
  },
  {
   "cell_type": "markdown",
   "metadata": {},
   "source": [
    "### Issue #7: rating_numerator and rating_denominator are the incorrect datatype"
   ]
  },
  {
   "cell_type": "markdown",
   "metadata": {
    "collapsed": true,
    "extensions": {
     "jupyter_dashboards": {
      "version": 1,
      "views": {
       "grid_default": {
        "hidden": true
       },
       "report_default": {
        "hidden": true
       }
      }
     }
    }
   },
   "source": [
    "#### Define:  Change rating_numerator and rating_denominator from 'integer' to 'float'. It is possible for a dog to be rated with a fraction or non-integer. To best represent their ratings we will want to convert these columns to floats. "
   ]
  },
  {
   "cell_type": "markdown",
   "metadata": {},
   "source": [
    "#### Code"
   ]
  },
  {
   "cell_type": "code",
   "execution_count": 121,
   "metadata": {},
   "outputs": [
    {
     "name": "stdout",
     "output_type": "stream",
     "text": [
      "<class 'pandas.core.frame.DataFrame'>\n",
      "Int64Index: 1432 entries, 2 to 2355\n",
      "Data columns (total 7 columns):\n",
      "tweet_id              1432 non-null int64\n",
      "rating_numerator      1432 non-null int64\n",
      "rating_denominator    1432 non-null int64\n",
      "favorites             1432 non-null int64\n",
      "retweets              1432 non-null int64\n",
      "timestamp             1432 non-null datetime64[ns]\n",
      "p1                    1432 non-null object\n",
      "dtypes: datetime64[ns](1), int64(5), object(1)\n",
      "memory usage: 89.5+ KB\n"
     ]
    }
   ],
   "source": [
    "df.info()"
   ]
  },
  {
   "cell_type": "code",
   "execution_count": 122,
   "metadata": {},
   "outputs": [],
   "source": [
    "df[['rating_numerator', 'rating_denominator']]=df[['rating_numerator', 'rating_denominator']].astype(float)"
   ]
  },
  {
   "cell_type": "markdown",
   "metadata": {},
   "source": [
    "#### Test"
   ]
  },
  {
   "cell_type": "code",
   "execution_count": 123,
   "metadata": {},
   "outputs": [
    {
     "name": "stdout",
     "output_type": "stream",
     "text": [
      "<class 'pandas.core.frame.DataFrame'>\n",
      "Int64Index: 1432 entries, 2 to 2355\n",
      "Data columns (total 7 columns):\n",
      "tweet_id              1432 non-null int64\n",
      "rating_numerator      1432 non-null float64\n",
      "rating_denominator    1432 non-null float64\n",
      "favorites             1432 non-null int64\n",
      "retweets              1432 non-null int64\n",
      "timestamp             1432 non-null datetime64[ns]\n",
      "p1                    1432 non-null object\n",
      "dtypes: datetime64[ns](1), float64(2), int64(3), object(1)\n",
      "memory usage: 89.5+ KB\n"
     ]
    }
   ],
   "source": [
    "df.info()"
   ]
  },
  {
   "cell_type": "markdown",
   "metadata": {},
   "source": [
    "### Issue #8: tweet_id is in an incorrect datatype"
   ]
  },
  {
   "cell_type": "markdown",
   "metadata": {
    "collapsed": true,
    "extensions": {
     "jupyter_dashboards": {
      "version": 1,
      "views": {
       "grid_default": {
        "hidden": true
       },
       "report_default": {
        "hidden": true
       }
      }
     }
    }
   },
   "source": [
    "#### Define:  Change tweet_id from 'integer' to 'string'. The tweet_id is a unique identifier and not used as a number. It make no sense to have this column as an interger. We can best make use of tweet_id as a string (object)."
   ]
  },
  {
   "cell_type": "markdown",
   "metadata": {},
   "source": [
    "#### Code"
   ]
  },
  {
   "cell_type": "code",
   "execution_count": 124,
   "metadata": {},
   "outputs": [],
   "source": [
    "df[['tweet_id']]=df[['tweet_id']].astype(str)"
   ]
  },
  {
   "cell_type": "markdown",
   "metadata": {},
   "source": [
    "#### Test"
   ]
  },
  {
   "cell_type": "code",
   "execution_count": 125,
   "metadata": {},
   "outputs": [
    {
     "name": "stdout",
     "output_type": "stream",
     "text": [
      "<class 'pandas.core.frame.DataFrame'>\n",
      "Int64Index: 1432 entries, 2 to 2355\n",
      "Data columns (total 7 columns):\n",
      "tweet_id              1432 non-null object\n",
      "rating_numerator      1432 non-null float64\n",
      "rating_denominator    1432 non-null float64\n",
      "favorites             1432 non-null int64\n",
      "retweets              1432 non-null int64\n",
      "timestamp             1432 non-null datetime64[ns]\n",
      "p1                    1432 non-null object\n",
      "dtypes: datetime64[ns](1), float64(2), int64(2), object(2)\n",
      "memory usage: 89.5+ KB\n"
     ]
    }
   ],
   "source": [
    "df.info()"
   ]
  },
  {
   "cell_type": "markdown",
   "metadata": {},
   "source": [
    "## Storing Data\n",
    "Save gathered, assessed, and cleaned master dataset to a CSV file named \"twitter_archive_master.csv\"."
   ]
  },
  {
   "cell_type": "code",
   "execution_count": 130,
   "metadata": {},
   "outputs": [],
   "source": [
    "df.to_csv(\"twitter_archive_master.csv\", index= False)"
   ]
  },
  {
   "cell_type": "markdown",
   "metadata": {},
   "source": [
    "## Analyzing and Visualizing Data\n",
    "In this section, analyze and visualize your wrangled data. You must produce at least **three (3) insights and one (1) visualization.**"
   ]
  },
  {
   "cell_type": "code",
   "execution_count": 131,
   "metadata": {},
   "outputs": [
    {
     "data": {
      "text/plain": [
       "golden_retriever      137\n",
       "Labrador_retriever     91\n",
       "Pembroke               88\n",
       "Chihuahua              77\n",
       "pug                    54\n",
       "Name: dog_breed, dtype: int64"
      ]
     },
     "execution_count": 131,
     "metadata": {},
     "output_type": "execute_result"
    }
   ],
   "source": [
    "# Top 5 dogs by number of tweets\n",
    "breed_plot=df['dog_breed'].value_counts().nlargest(5)\n",
    "breed_plot"
   ]
  },
  {
   "cell_type": "code",
   "execution_count": 132,
   "metadata": {},
   "outputs": [
    {
     "data": {
      "text/plain": [
       "day\n",
       "Wednesday    1849680\n",
       "Monday       1764337\n",
       "Saturday     1645154\n",
       "Tuesday      1615882\n",
       "Friday       1611338\n",
       "Thursday     1604545\n",
       "Sunday       1457539\n",
       "Name: favorites, dtype: int64"
      ]
     },
     "execution_count": 132,
     "metadata": {},
     "output_type": "execute_result"
    }
   ],
   "source": [
    "# Order of days with the most favorites \n",
    "fav_day=df['favorites'].groupby(df['day']).sum().nlargest(7)\n",
    "fav_day"
   ]
  },
  {
   "cell_type": "code",
   "execution_count": 133,
   "metadata": {},
   "outputs": [
    {
     "data": {
      "text/plain": [
       "day\n",
       "Wednesday    524938\n",
       "Saturday     505445\n",
       "Monday       485593\n",
       "Tuesday      449670\n",
       "Friday       449420\n",
       "Thursday     436552\n",
       "Sunday       408378\n",
       "Name: retweets, dtype: int64"
      ]
     },
     "execution_count": 133,
     "metadata": {},
     "output_type": "execute_result"
    }
   ],
   "source": [
    "# Order of days with the most retweets\n",
    "retweet_day=df['retweets'].groupby(df['day']).sum().nlargest(7)\n",
    "retweet_day"
   ]
  },
  {
   "cell_type": "code",
   "execution_count": 134,
   "metadata": {},
   "outputs": [
    {
     "data": {
      "text/html": [
       "<div>\n",
       "<style scoped>\n",
       "    .dataframe tbody tr th:only-of-type {\n",
       "        vertical-align: middle;\n",
       "    }\n",
       "\n",
       "    .dataframe tbody tr th {\n",
       "        vertical-align: top;\n",
       "    }\n",
       "\n",
       "    .dataframe thead th {\n",
       "        text-align: right;\n",
       "    }\n",
       "</style>\n",
       "<table border=\"1\" class=\"dataframe\">\n",
       "  <thead>\n",
       "    <tr style=\"text-align: right;\">\n",
       "      <th></th>\n",
       "      <th>dog_breed</th>\n",
       "      <th>fav_avg</th>\n",
       "      <th>number_tweets</th>\n",
       "      <th>retweet_avg</th>\n",
       "      <th>rating_avg</th>\n",
       "    </tr>\n",
       "  </thead>\n",
       "  <tbody>\n",
       "    <tr>\n",
       "      <th>51</th>\n",
       "      <td>Saluki</td>\n",
       "      <td>20848.500000</td>\n",
       "      <td>4</td>\n",
       "      <td>4152.500000</td>\n",
       "      <td>12.500000</td>\n",
       "    </tr>\n",
       "    <tr>\n",
       "      <th>21</th>\n",
       "      <td>French_bulldog</td>\n",
       "      <td>16382.240000</td>\n",
       "      <td>25</td>\n",
       "      <td>3944.040000</td>\n",
       "      <td>11.240000</td>\n",
       "    </tr>\n",
       "    <tr>\n",
       "      <th>0</th>\n",
       "      <td>Afghan_hound</td>\n",
       "      <td>14739.000000</td>\n",
       "      <td>3</td>\n",
       "      <td>4802.666667</td>\n",
       "      <td>9.666667</td>\n",
       "    </tr>\n",
       "    <tr>\n",
       "      <th>79</th>\n",
       "      <td>giant_schnauzer</td>\n",
       "      <td>14701.000000</td>\n",
       "      <td>2</td>\n",
       "      <td>4144.500000</td>\n",
       "      <td>11.500000</td>\n",
       "    </tr>\n",
       "    <tr>\n",
       "      <th>69</th>\n",
       "      <td>black-and-tan_coonhound</td>\n",
       "      <td>14684.000000</td>\n",
       "      <td>2</td>\n",
       "      <td>3331.000000</td>\n",
       "      <td>10.500000</td>\n",
       "    </tr>\n",
       "    <tr>\n",
       "      <th>78</th>\n",
       "      <td>flat-coated_retriever</td>\n",
       "      <td>14551.750000</td>\n",
       "      <td>8</td>\n",
       "      <td>3748.375000</td>\n",
       "      <td>10.875000</td>\n",
       "    </tr>\n",
       "    <tr>\n",
       "      <th>31</th>\n",
       "      <td>Irish_water_spaniel</td>\n",
       "      <td>14006.666667</td>\n",
       "      <td>3</td>\n",
       "      <td>3632.666667</td>\n",
       "      <td>11.333333</td>\n",
       "    </tr>\n",
       "    <tr>\n",
       "      <th>93</th>\n",
       "      <td>standard_poodle</td>\n",
       "      <td>13659.857143</td>\n",
       "      <td>7</td>\n",
       "      <td>5438.428571</td>\n",
       "      <td>10.285714</td>\n",
       "    </tr>\n",
       "    <tr>\n",
       "      <th>19</th>\n",
       "      <td>English_springer</td>\n",
       "      <td>13481.111111</td>\n",
       "      <td>9</td>\n",
       "      <td>4891.888889</td>\n",
       "      <td>11.111111</td>\n",
       "    </tr>\n",
       "    <tr>\n",
       "      <th>13</th>\n",
       "      <td>Cardigan</td>\n",
       "      <td>13081.764706</td>\n",
       "      <td>17</td>\n",
       "      <td>3652.176471</td>\n",
       "      <td>11.529412</td>\n",
       "    </tr>\n",
       "  </tbody>\n",
       "</table>\n",
       "</div>"
      ],
      "text/plain": [
       "                  dog_breed       fav_avg  number_tweets  retweet_avg  \\\n",
       "51                   Saluki  20848.500000              4  4152.500000   \n",
       "21           French_bulldog  16382.240000             25  3944.040000   \n",
       "0              Afghan_hound  14739.000000              3  4802.666667   \n",
       "79          giant_schnauzer  14701.000000              2  4144.500000   \n",
       "69  black-and-tan_coonhound  14684.000000              2  3331.000000   \n",
       "78    flat-coated_retriever  14551.750000              8  3748.375000   \n",
       "31      Irish_water_spaniel  14006.666667              3  3632.666667   \n",
       "93          standard_poodle  13659.857143              7  5438.428571   \n",
       "19         English_springer  13481.111111              9  4891.888889   \n",
       "13                 Cardigan  13081.764706             17  3652.176471   \n",
       "\n",
       "    rating_avg  \n",
       "51   12.500000  \n",
       "21   11.240000  \n",
       "0     9.666667  \n",
       "79   11.500000  \n",
       "69   10.500000  \n",
       "78   10.875000  \n",
       "31   11.333333  \n",
       "93   10.285714  \n",
       "19   11.111111  \n",
       "13   11.529412  "
      ]
     },
     "execution_count": 134,
     "metadata": {},
     "output_type": "execute_result"
    }
   ],
   "source": [
    "# Dataframe with columns showing the average number of favorites, average number of retweets, average rating, and the number of tweets for that breed\n",
    "df1=df.groupby('dog_breed').agg({\"favorites\":[\"mean\",\"count\"],\"retweets\":\"mean\",\"rating_numerator\":\"mean\"}).reset_index()\n",
    "df1.columns=['dog_breed','fav_avg','number_tweets','retweet_avg','rating_avg']\n",
    "\n",
    "# Highest favorite average\n",
    "df1.sort_values('fav_avg',ascending= False).head(10)"
   ]
  },
  {
   "cell_type": "code",
   "execution_count": 135,
   "metadata": {},
   "outputs": [
    {
     "data": {
      "text/html": [
       "<div>\n",
       "<style scoped>\n",
       "    .dataframe tbody tr th:only-of-type {\n",
       "        vertical-align: middle;\n",
       "    }\n",
       "\n",
       "    .dataframe tbody tr th {\n",
       "        vertical-align: top;\n",
       "    }\n",
       "\n",
       "    .dataframe thead th {\n",
       "        text-align: right;\n",
       "    }\n",
       "</style>\n",
       "<table border=\"1\" class=\"dataframe\">\n",
       "  <thead>\n",
       "    <tr style=\"text-align: right;\">\n",
       "      <th></th>\n",
       "      <th>dog_breed</th>\n",
       "      <th>fav_avg</th>\n",
       "      <th>number_tweets</th>\n",
       "      <th>retweet_avg</th>\n",
       "      <th>rating_avg</th>\n",
       "    </tr>\n",
       "  </thead>\n",
       "  <tbody>\n",
       "    <tr>\n",
       "      <th>92</th>\n",
       "      <td>soft-coated_wheaten_terrier</td>\n",
       "      <td>1937.500000</td>\n",
       "      <td>10</td>\n",
       "      <td>649.800000</td>\n",
       "      <td>26.700000</td>\n",
       "    </tr>\n",
       "    <tr>\n",
       "      <th>95</th>\n",
       "      <td>teddy</td>\n",
       "      <td>4973.117647</td>\n",
       "      <td>17</td>\n",
       "      <td>1338.588235</td>\n",
       "      <td>18.588235</td>\n",
       "    </tr>\n",
       "    <tr>\n",
       "      <th>64</th>\n",
       "      <td>West_Highland_white_terrier</td>\n",
       "      <td>5606.285714</td>\n",
       "      <td>14</td>\n",
       "      <td>1260.928571</td>\n",
       "      <td>15.642857</td>\n",
       "    </tr>\n",
       "    <tr>\n",
       "      <th>26</th>\n",
       "      <td>Great_Pyrenees</td>\n",
       "      <td>10927.071429</td>\n",
       "      <td>14</td>\n",
       "      <td>3773.785714</td>\n",
       "      <td>14.928571</td>\n",
       "    </tr>\n",
       "    <tr>\n",
       "      <th>71</th>\n",
       "      <td>borzoi</td>\n",
       "      <td>5520.750000</td>\n",
       "      <td>8</td>\n",
       "      <td>1512.625000</td>\n",
       "      <td>14.625000</td>\n",
       "    </tr>\n",
       "    <tr>\n",
       "      <th>34</th>\n",
       "      <td>Labrador_retriever</td>\n",
       "      <td>9957.681319</td>\n",
       "      <td>91</td>\n",
       "      <td>3082.406593</td>\n",
       "      <td>14.000000</td>\n",
       "    </tr>\n",
       "    <tr>\n",
       "      <th>56</th>\n",
       "      <td>Siberian_husky</td>\n",
       "      <td>5994.100000</td>\n",
       "      <td>20</td>\n",
       "      <td>1379.600000</td>\n",
       "      <td>13.250000</td>\n",
       "    </tr>\n",
       "    <tr>\n",
       "      <th>47</th>\n",
       "      <td>Pomeranian</td>\n",
       "      <td>6978.210526</td>\n",
       "      <td>38</td>\n",
       "      <td>2302.131579</td>\n",
       "      <td>12.868421</td>\n",
       "    </tr>\n",
       "    <tr>\n",
       "      <th>51</th>\n",
       "      <td>Saluki</td>\n",
       "      <td>20848.500000</td>\n",
       "      <td>4</td>\n",
       "      <td>4152.500000</td>\n",
       "      <td>12.500000</td>\n",
       "    </tr>\n",
       "    <tr>\n",
       "      <th>80</th>\n",
       "      <td>golden_retriever</td>\n",
       "      <td>10779.000000</td>\n",
       "      <td>137</td>\n",
       "      <td>2993.459854</td>\n",
       "      <td>12.277372</td>\n",
       "    </tr>\n",
       "  </tbody>\n",
       "</table>\n",
       "</div>"
      ],
      "text/plain": [
       "                      dog_breed       fav_avg  number_tweets  retweet_avg  \\\n",
       "92  soft-coated_wheaten_terrier   1937.500000             10   649.800000   \n",
       "95                        teddy   4973.117647             17  1338.588235   \n",
       "64  West_Highland_white_terrier   5606.285714             14  1260.928571   \n",
       "26               Great_Pyrenees  10927.071429             14  3773.785714   \n",
       "71                       borzoi   5520.750000              8  1512.625000   \n",
       "34           Labrador_retriever   9957.681319             91  3082.406593   \n",
       "56               Siberian_husky   5994.100000             20  1379.600000   \n",
       "47                   Pomeranian   6978.210526             38  2302.131579   \n",
       "51                       Saluki  20848.500000              4  4152.500000   \n",
       "80             golden_retriever  10779.000000            137  2993.459854   \n",
       "\n",
       "    rating_avg  \n",
       "92   26.700000  \n",
       "95   18.588235  \n",
       "64   15.642857  \n",
       "26   14.928571  \n",
       "71   14.625000  \n",
       "34   14.000000  \n",
       "56   13.250000  \n",
       "47   12.868421  \n",
       "51   12.500000  \n",
       "80   12.277372  "
      ]
     },
     "execution_count": 135,
     "metadata": {},
     "output_type": "execute_result"
    }
   ],
   "source": [
    "# Top 10 dogs with the highest rating average with 3 tweets or more\n",
    "rating=df1[(df1.number_tweets >= 3)].sort_values('rating_avg',ascending= False).head(10)\n",
    "rating"
   ]
  },
  {
   "cell_type": "code",
   "execution_count": 136,
   "metadata": {},
   "outputs": [
    {
     "data": {
      "text/html": [
       "<div>\n",
       "<style scoped>\n",
       "    .dataframe tbody tr th:only-of-type {\n",
       "        vertical-align: middle;\n",
       "    }\n",
       "\n",
       "    .dataframe tbody tr th {\n",
       "        vertical-align: top;\n",
       "    }\n",
       "\n",
       "    .dataframe thead th {\n",
       "        text-align: right;\n",
       "    }\n",
       "</style>\n",
       "<table border=\"1\" class=\"dataframe\">\n",
       "  <thead>\n",
       "    <tr style=\"text-align: right;\">\n",
       "      <th></th>\n",
       "      <th>dog_breed</th>\n",
       "      <th>fav_avg</th>\n",
       "      <th>number_tweets</th>\n",
       "      <th>retweet_avg</th>\n",
       "      <th>rating_avg</th>\n",
       "    </tr>\n",
       "  </thead>\n",
       "  <tbody>\n",
       "    <tr>\n",
       "      <th>93</th>\n",
       "      <td>standard_poodle</td>\n",
       "      <td>13659.857143</td>\n",
       "      <td>7</td>\n",
       "      <td>5438.428571</td>\n",
       "      <td>10.285714</td>\n",
       "    </tr>\n",
       "    <tr>\n",
       "      <th>19</th>\n",
       "      <td>English_springer</td>\n",
       "      <td>13481.111111</td>\n",
       "      <td>9</td>\n",
       "      <td>4891.888889</td>\n",
       "      <td>11.111111</td>\n",
       "    </tr>\n",
       "    <tr>\n",
       "      <th>0</th>\n",
       "      <td>Afghan_hound</td>\n",
       "      <td>14739.000000</td>\n",
       "      <td>3</td>\n",
       "      <td>4802.666667</td>\n",
       "      <td>9.666667</td>\n",
       "    </tr>\n",
       "    <tr>\n",
       "      <th>20</th>\n",
       "      <td>Eskimo_dog</td>\n",
       "      <td>12655.611111</td>\n",
       "      <td>18</td>\n",
       "      <td>4432.444444</td>\n",
       "      <td>11.777778</td>\n",
       "    </tr>\n",
       "    <tr>\n",
       "      <th>51</th>\n",
       "      <td>Saluki</td>\n",
       "      <td>20848.500000</td>\n",
       "      <td>4</td>\n",
       "      <td>4152.500000</td>\n",
       "      <td>12.500000</td>\n",
       "    </tr>\n",
       "    <tr>\n",
       "      <th>21</th>\n",
       "      <td>French_bulldog</td>\n",
       "      <td>16382.240000</td>\n",
       "      <td>25</td>\n",
       "      <td>3944.040000</td>\n",
       "      <td>11.240000</td>\n",
       "    </tr>\n",
       "    <tr>\n",
       "      <th>35</th>\n",
       "      <td>Lakeland_terrier</td>\n",
       "      <td>11974.466667</td>\n",
       "      <td>15</td>\n",
       "      <td>3867.000000</td>\n",
       "      <td>10.466667</td>\n",
       "    </tr>\n",
       "    <tr>\n",
       "      <th>26</th>\n",
       "      <td>Great_Pyrenees</td>\n",
       "      <td>10927.071429</td>\n",
       "      <td>14</td>\n",
       "      <td>3773.785714</td>\n",
       "      <td>14.928571</td>\n",
       "    </tr>\n",
       "    <tr>\n",
       "      <th>78</th>\n",
       "      <td>flat-coated_retriever</td>\n",
       "      <td>14551.750000</td>\n",
       "      <td>8</td>\n",
       "      <td>3748.375000</td>\n",
       "      <td>10.875000</td>\n",
       "    </tr>\n",
       "    <tr>\n",
       "      <th>13</th>\n",
       "      <td>Cardigan</td>\n",
       "      <td>13081.764706</td>\n",
       "      <td>17</td>\n",
       "      <td>3652.176471</td>\n",
       "      <td>11.529412</td>\n",
       "    </tr>\n",
       "  </tbody>\n",
       "</table>\n",
       "</div>"
      ],
      "text/plain": [
       "                dog_breed       fav_avg  number_tweets  retweet_avg  \\\n",
       "93        standard_poodle  13659.857143              7  5438.428571   \n",
       "19       English_springer  13481.111111              9  4891.888889   \n",
       "0            Afghan_hound  14739.000000              3  4802.666667   \n",
       "20             Eskimo_dog  12655.611111             18  4432.444444   \n",
       "51                 Saluki  20848.500000              4  4152.500000   \n",
       "21         French_bulldog  16382.240000             25  3944.040000   \n",
       "35       Lakeland_terrier  11974.466667             15  3867.000000   \n",
       "26         Great_Pyrenees  10927.071429             14  3773.785714   \n",
       "78  flat-coated_retriever  14551.750000              8  3748.375000   \n",
       "13               Cardigan  13081.764706             17  3652.176471   \n",
       "\n",
       "    rating_avg  \n",
       "93   10.285714  \n",
       "19   11.111111  \n",
       "0     9.666667  \n",
       "20   11.777778  \n",
       "51   12.500000  \n",
       "21   11.240000  \n",
       "35   10.466667  \n",
       "26   14.928571  \n",
       "78   10.875000  \n",
       "13   11.529412  "
      ]
     },
     "execution_count": 136,
     "metadata": {},
     "output_type": "execute_result"
    }
   ],
   "source": [
    "# Top 10 dogs with the highest retweet average with 3 tweets or more\n",
    "retweet=df1[(df1.number_tweets >= 3)].sort_values('retweet_avg',ascending= False).head(10)\n",
    "retweet"
   ]
  },
  {
   "cell_type": "code",
   "execution_count": 137,
   "metadata": {},
   "outputs": [
    {
     "data": {
      "text/html": [
       "<div>\n",
       "<style scoped>\n",
       "    .dataframe tbody tr th:only-of-type {\n",
       "        vertical-align: middle;\n",
       "    }\n",
       "\n",
       "    .dataframe tbody tr th {\n",
       "        vertical-align: top;\n",
       "    }\n",
       "\n",
       "    .dataframe thead th {\n",
       "        text-align: right;\n",
       "    }\n",
       "</style>\n",
       "<table border=\"1\" class=\"dataframe\">\n",
       "  <thead>\n",
       "    <tr style=\"text-align: right;\">\n",
       "      <th></th>\n",
       "      <th>dog_breed</th>\n",
       "      <th>fav_avg</th>\n",
       "      <th>number_tweets</th>\n",
       "      <th>retweet_avg</th>\n",
       "      <th>rating_avg</th>\n",
       "    </tr>\n",
       "  </thead>\n",
       "  <tbody>\n",
       "    <tr>\n",
       "      <th>51</th>\n",
       "      <td>Saluki</td>\n",
       "      <td>20848.500000</td>\n",
       "      <td>4</td>\n",
       "      <td>4152.500000</td>\n",
       "      <td>12.500000</td>\n",
       "    </tr>\n",
       "    <tr>\n",
       "      <th>21</th>\n",
       "      <td>French_bulldog</td>\n",
       "      <td>16382.240000</td>\n",
       "      <td>25</td>\n",
       "      <td>3944.040000</td>\n",
       "      <td>11.240000</td>\n",
       "    </tr>\n",
       "    <tr>\n",
       "      <th>0</th>\n",
       "      <td>Afghan_hound</td>\n",
       "      <td>14739.000000</td>\n",
       "      <td>3</td>\n",
       "      <td>4802.666667</td>\n",
       "      <td>9.666667</td>\n",
       "    </tr>\n",
       "    <tr>\n",
       "      <th>78</th>\n",
       "      <td>flat-coated_retriever</td>\n",
       "      <td>14551.750000</td>\n",
       "      <td>8</td>\n",
       "      <td>3748.375000</td>\n",
       "      <td>10.875000</td>\n",
       "    </tr>\n",
       "    <tr>\n",
       "      <th>31</th>\n",
       "      <td>Irish_water_spaniel</td>\n",
       "      <td>14006.666667</td>\n",
       "      <td>3</td>\n",
       "      <td>3632.666667</td>\n",
       "      <td>11.333333</td>\n",
       "    </tr>\n",
       "    <tr>\n",
       "      <th>93</th>\n",
       "      <td>standard_poodle</td>\n",
       "      <td>13659.857143</td>\n",
       "      <td>7</td>\n",
       "      <td>5438.428571</td>\n",
       "      <td>10.285714</td>\n",
       "    </tr>\n",
       "    <tr>\n",
       "      <th>19</th>\n",
       "      <td>English_springer</td>\n",
       "      <td>13481.111111</td>\n",
       "      <td>9</td>\n",
       "      <td>4891.888889</td>\n",
       "      <td>11.111111</td>\n",
       "    </tr>\n",
       "    <tr>\n",
       "      <th>13</th>\n",
       "      <td>Cardigan</td>\n",
       "      <td>13081.764706</td>\n",
       "      <td>17</td>\n",
       "      <td>3652.176471</td>\n",
       "      <td>11.529412</td>\n",
       "    </tr>\n",
       "    <tr>\n",
       "      <th>36</th>\n",
       "      <td>Leonberg</td>\n",
       "      <td>12684.000000</td>\n",
       "      <td>3</td>\n",
       "      <td>3100.333333</td>\n",
       "      <td>11.333333</td>\n",
       "    </tr>\n",
       "    <tr>\n",
       "      <th>20</th>\n",
       "      <td>Eskimo_dog</td>\n",
       "      <td>12655.611111</td>\n",
       "      <td>18</td>\n",
       "      <td>4432.444444</td>\n",
       "      <td>11.777778</td>\n",
       "    </tr>\n",
       "  </tbody>\n",
       "</table>\n",
       "</div>"
      ],
      "text/plain": [
       "                dog_breed       fav_avg  number_tweets  retweet_avg  \\\n",
       "51                 Saluki  20848.500000              4  4152.500000   \n",
       "21         French_bulldog  16382.240000             25  3944.040000   \n",
       "0            Afghan_hound  14739.000000              3  4802.666667   \n",
       "78  flat-coated_retriever  14551.750000              8  3748.375000   \n",
       "31    Irish_water_spaniel  14006.666667              3  3632.666667   \n",
       "93        standard_poodle  13659.857143              7  5438.428571   \n",
       "19       English_springer  13481.111111              9  4891.888889   \n",
       "13               Cardigan  13081.764706             17  3652.176471   \n",
       "36               Leonberg  12684.000000              3  3100.333333   \n",
       "20             Eskimo_dog  12655.611111             18  4432.444444   \n",
       "\n",
       "    rating_avg  \n",
       "51   12.500000  \n",
       "21   11.240000  \n",
       "0     9.666667  \n",
       "78   10.875000  \n",
       "31   11.333333  \n",
       "93   10.285714  \n",
       "19   11.111111  \n",
       "13   11.529412  \n",
       "36   11.333333  \n",
       "20   11.777778  "
      ]
     },
     "execution_count": 137,
     "metadata": {},
     "output_type": "execute_result"
    }
   ],
   "source": [
    "# Top 10 dogs with the highest favorite average with 3 tweets or more\n",
    "fav=df1[(df1.number_tweets >= 3)].sort_values('fav_avg',ascending= False).head(10)\n",
    "fav"
   ]
  },
  {
   "cell_type": "markdown",
   "metadata": {},
   "source": [
    "### Insights:\n",
    "\n",
    "\n",
    "1. The Saluki ranked highest in favorite and rating averages amoungst dog breeds that had at least 3 tweets, follwed by the French Bulldog. The Standard Poodle ranked highest in retweets, followed by the English Springer. \n",
    "\n",
    "\n",
    "\n",
    "2. The Golden Retriever was had the most overall tweets, 137, but was not in the top 10 of favorite and retweet averages. \n",
    "\n",
    "\n",
    "\n",
    "3. Tweets posted on Wednesdays had the overall highest action; the most favorites and retweets occured on Wednesdays. Sundays saw the least amount of action. "
   ]
  },
  {
   "cell_type": "markdown",
   "metadata": {
    "collapsed": true
   },
   "source": [
    "### Visualization"
   ]
  },
  {
   "cell_type": "code",
   "execution_count": 138,
   "metadata": {},
   "outputs": [
    {
     "data": {
      "text/html": [
       "<div>\n",
       "<style scoped>\n",
       "    .dataframe tbody tr th:only-of-type {\n",
       "        vertical-align: middle;\n",
       "    }\n",
       "\n",
       "    .dataframe tbody tr th {\n",
       "        vertical-align: top;\n",
       "    }\n",
       "\n",
       "    .dataframe thead th {\n",
       "        text-align: right;\n",
       "    }\n",
       "</style>\n",
       "<table border=\"1\" class=\"dataframe\">\n",
       "  <thead>\n",
       "    <tr style=\"text-align: right;\">\n",
       "      <th></th>\n",
       "      <th>dog_breed</th>\n",
       "      <th>fav_avg</th>\n",
       "      <th>number_tweets</th>\n",
       "      <th>retweet_avg</th>\n",
       "      <th>rating_avg</th>\n",
       "    </tr>\n",
       "  </thead>\n",
       "  <tbody>\n",
       "    <tr>\n",
       "      <th>51</th>\n",
       "      <td>Saluki</td>\n",
       "      <td>20848.500000</td>\n",
       "      <td>4</td>\n",
       "      <td>4152.500000</td>\n",
       "      <td>12.500000</td>\n",
       "    </tr>\n",
       "    <tr>\n",
       "      <th>21</th>\n",
       "      <td>French_bulldog</td>\n",
       "      <td>16382.240000</td>\n",
       "      <td>25</td>\n",
       "      <td>3944.040000</td>\n",
       "      <td>11.240000</td>\n",
       "    </tr>\n",
       "    <tr>\n",
       "      <th>0</th>\n",
       "      <td>Afghan_hound</td>\n",
       "      <td>14739.000000</td>\n",
       "      <td>3</td>\n",
       "      <td>4802.666667</td>\n",
       "      <td>9.666667</td>\n",
       "    </tr>\n",
       "    <tr>\n",
       "      <th>78</th>\n",
       "      <td>flat-coated_retriever</td>\n",
       "      <td>14551.750000</td>\n",
       "      <td>8</td>\n",
       "      <td>3748.375000</td>\n",
       "      <td>10.875000</td>\n",
       "    </tr>\n",
       "    <tr>\n",
       "      <th>31</th>\n",
       "      <td>Irish_water_spaniel</td>\n",
       "      <td>14006.666667</td>\n",
       "      <td>3</td>\n",
       "      <td>3632.666667</td>\n",
       "      <td>11.333333</td>\n",
       "    </tr>\n",
       "    <tr>\n",
       "      <th>93</th>\n",
       "      <td>standard_poodle</td>\n",
       "      <td>13659.857143</td>\n",
       "      <td>7</td>\n",
       "      <td>5438.428571</td>\n",
       "      <td>10.285714</td>\n",
       "    </tr>\n",
       "    <tr>\n",
       "      <th>19</th>\n",
       "      <td>English_springer</td>\n",
       "      <td>13481.111111</td>\n",
       "      <td>9</td>\n",
       "      <td>4891.888889</td>\n",
       "      <td>11.111111</td>\n",
       "    </tr>\n",
       "    <tr>\n",
       "      <th>13</th>\n",
       "      <td>Cardigan</td>\n",
       "      <td>13081.764706</td>\n",
       "      <td>17</td>\n",
       "      <td>3652.176471</td>\n",
       "      <td>11.529412</td>\n",
       "    </tr>\n",
       "    <tr>\n",
       "      <th>36</th>\n",
       "      <td>Leonberg</td>\n",
       "      <td>12684.000000</td>\n",
       "      <td>3</td>\n",
       "      <td>3100.333333</td>\n",
       "      <td>11.333333</td>\n",
       "    </tr>\n",
       "    <tr>\n",
       "      <th>20</th>\n",
       "      <td>Eskimo_dog</td>\n",
       "      <td>12655.611111</td>\n",
       "      <td>18</td>\n",
       "      <td>4432.444444</td>\n",
       "      <td>11.777778</td>\n",
       "    </tr>\n",
       "    <tr>\n",
       "      <th>35</th>\n",
       "      <td>Lakeland_terrier</td>\n",
       "      <td>11974.466667</td>\n",
       "      <td>15</td>\n",
       "      <td>3867.000000</td>\n",
       "      <td>10.466667</td>\n",
       "    </tr>\n",
       "    <tr>\n",
       "      <th>26</th>\n",
       "      <td>Great_Pyrenees</td>\n",
       "      <td>10927.071429</td>\n",
       "      <td>14</td>\n",
       "      <td>3773.785714</td>\n",
       "      <td>14.928571</td>\n",
       "    </tr>\n",
       "  </tbody>\n",
       "</table>\n",
       "</div>"
      ],
      "text/plain": [
       "                dog_breed       fav_avg  number_tweets  retweet_avg  \\\n",
       "51                 Saluki  20848.500000              4  4152.500000   \n",
       "21         French_bulldog  16382.240000             25  3944.040000   \n",
       "0            Afghan_hound  14739.000000              3  4802.666667   \n",
       "78  flat-coated_retriever  14551.750000              8  3748.375000   \n",
       "31    Irish_water_spaniel  14006.666667              3  3632.666667   \n",
       "93        standard_poodle  13659.857143              7  5438.428571   \n",
       "19       English_springer  13481.111111              9  4891.888889   \n",
       "13               Cardigan  13081.764706             17  3652.176471   \n",
       "36               Leonberg  12684.000000              3  3100.333333   \n",
       "20             Eskimo_dog  12655.611111             18  4432.444444   \n",
       "35       Lakeland_terrier  11974.466667             15  3867.000000   \n",
       "26         Great_Pyrenees  10927.071429             14  3773.785714   \n",
       "\n",
       "    rating_avg  \n",
       "51   12.500000  \n",
       "21   11.240000  \n",
       "0     9.666667  \n",
       "78   10.875000  \n",
       "31   11.333333  \n",
       "93   10.285714  \n",
       "19   11.111111  \n",
       "13   11.529412  \n",
       "36   11.333333  \n",
       "20   11.777778  \n",
       "35   10.466667  \n",
       "26   14.928571  "
      ]
     },
     "execution_count": 138,
     "metadata": {},
     "output_type": "execute_result"
    }
   ],
   "source": [
    "# One df with top 10 favorite and retweet dog breeds\n",
    "df2= fav.append(retweet)\n",
    "df2.drop_duplicates(inplace= True)\n",
    "df2"
   ]
  },
  {
   "cell_type": "code",
   "execution_count": 143,
   "metadata": {},
   "outputs": [
    {
     "data": {
      "text/plain": [
       "<function matplotlib.pyplot.show(*args, **kw)>"
      ]
     },
     "execution_count": 143,
     "metadata": {},
     "output_type": "execute_result"
    },
    {
     "data": {
      "image/png": "[encoded data removed]",
      "text/plain": [
       "<matplotlib.figure.Figure at 0x7f57f69c9518>"
      ]
     },
     "metadata": {
      "needs_background": "light"
     },
     "output_type": "display_data"
    }
   ],
   "source": [
    "import matplotlib.pyplot as plt\n",
    "ax=df2.plot(x=\"dog_breed\", y=[\"fav_avg\", \"retweet_avg\"], kind=\"bar\", figsize=(9, 8))\n",
    "ax.set_xlabel(\"Dog Breeds\")\n",
    "ax.set_ylabel(\"Count\")\n",
    "ax.set_title(\"Top Dog Breeds by Average number of Favorites and Retweets\")\n",
    "ax.legend([\"Favorites\", \"Retweets\"])\n",
    "plt.show"
   ]
  },
  {
   "cell_type": "code",
   "execution_count": 140,
   "metadata": {},
   "outputs": [
    {
     "data": {
      "text/plain": [
       "Text(0,0.5,'Count of favorites')"
      ]
     },
     "execution_count": 140,
     "metadata": {},
     "output_type": "execute_result"
    },
    {
     "data": {
      "image/png": "[encoded data removed]",
      "text/plain": [
       "<matplotlib.figure.Figure at 0x7f5800ffbda0>"
      ]
     },
     "metadata": {
      "needs_background": "light"
     },
     "output_type": "display_data"
    }
   ],
   "source": [
    "#Bar Graph by 'favorite' actions by day\n",
    "fav_day=df['favorites'].groupby(df['day']).sum().nlargest(7)\n",
    "fav_day.plot.bar(title= \"Most popular days for WeRateDogs posts\")\n",
    "plt.xlabel('Day of Week')\n",
    "plt.ylabel('Count of favorites')"
   ]
  },
  {
   "cell_type": "markdown",
   "metadata": {},
   "source": [
    "# Conclusion"
   ]
  },
  {
   "cell_type": "markdown",
   "metadata": {},
   "source": [
    "> After wrangling and cleaning data from WeRateDogs tweets, I am excited to share some insights\n",
    "from my analysis. I was very interested in what day of the week saw the most and least activity on the\n",
    "tweet. This could be measured by the overall number of favorites and retweets the occurred on each\n",
    "day. As you can see from these visualizations above, the most activity for both retweets and favorites\n",
    "happened on Wednesday. The least amount of activity happened on Sunday. This would suggest that is\n",
    "WeRateDogs account wanted more activity on a tweet, Wednesday would be the best day to post.\n",
    "Sunday WeRateDog posts would not be as likely to have high activity.\n",
    "\n",
    ">Above is also a viz showing the top dog breeds based on their favorites and retweets. I filtered the\n",
    "dataset to breeds that had at least 3 postings so no ‘one hit wonders’ snuck in the ratings. This shows\n",
    "Salukis had on average the most favorites followed by the French Bulldog and Afgan Hound. The\n",
    "Standard Poodles had the most retweets followed by the English Springer and Afgan Hound.\n",
    "\n",
    ">Below you will see the 5 dog breeds that WeRateDogs tweeted about the most. The Golden\n",
    "Retriever was clearly the most tweeted dog followed by the Labrador Retriever, Pembroke, Chihuahua,\n",
    "and Pug. However, none of those breeds crack the top 10 in followers favorites or retweets. A\n",
    "recommendation to WeRateDogs could be to tweet more Salukis, Standard Poodles, French Bulldogs,\n",
    "English Springers, or Afgan Hounds if they want more action on their tweets. \n"
   ]
  },
  {
   "cell_type": "code",
   "execution_count": 131,
   "metadata": {},
   "outputs": [
    {
     "data": {
      "text/plain": [
       "golden_retriever      137\n",
       "Labrador_retriever     91\n",
       "Pembroke               88\n",
       "Chihuahua              77\n",
       "pug                    54\n",
       "Name: dog_breed, dtype: int64"
      ]
     },
     "execution_count": 131,
     "metadata": {},
     "output_type": "execute_result"
    }
   ],
   "source": [
    "# Top 5 dogs by number of tweets\n",
    "breed_plot=df['dog_breed'].value_counts().nlargest(5)\n",
    "breed_plot"
   ]
  }
 ],
 "metadata": {
  "extensions": {
   "jupyter_dashboards": {
    "activeView": "report_default",
    "version": 1,
    "views": {
     "grid_default": {
      "cellMargin": 10,
      "defaultCellHeight": 20,
      "maxColumns": 12,
      "name": "grid",
      "type": "grid"
     },
     "report_default": {
      "name": "report",
      "type": "report"
     }
    }
   }
  },
  "kernelspec": {
   "display_name": "Python 3",
   "language": "python",
   "name": "python3"
  },
  "language_info": {
   "codemirror_mode": {
    "name": "ipython",
    "version": 3
   },
   "file_extension": ".py",
   "mimetype": "text/x-python",
   "name": "python",
   "nbconvert_exporter": "python",
   "pygments_lexer": "ipython3",
   "version": "3.6.3"
  }
 },
 "nbformat": 4,
 "nbformat_minor": 2
}
